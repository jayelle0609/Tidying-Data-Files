{
 "cells": [
  {
   "cell_type": "code",
   "execution_count": 79,
   "id": "af0ad683",
   "metadata": {},
   "outputs": [],
   "source": [
    "import pandas as pd\n",
    "import numpy as np\n",
    "\n",
    "df = pd.read_csv(\"/Users/jialing/Downloads/ResidentPopulationAged15YearsandOverbyReligionMaritalStatusandSexGeneralHouseholdSurvey2015 (2).csv\")"
   ]
  },
  {
   "cell_type": "code",
   "execution_count": 80,
   "id": "d2122f45",
   "metadata": {},
   "outputs": [
    {
     "data": {
      "text/plain": [
       "['Thousands',\n",
       " 'Total_Total',\n",
       " 'Total_Males',\n",
       " 'Total_Females',\n",
       " 'Single_Total',\n",
       " 'Single_Males',\n",
       " 'Single_Females',\n",
       " 'Married_Total',\n",
       " 'Married_Males',\n",
       " 'Married_Females',\n",
       " 'Widowed_Total',\n",
       " 'Widowed_Males',\n",
       " 'Widowed_Females',\n",
       " 'Divorced_Separated_Total',\n",
       " 'Divorced_Separated_Males',\n",
       " 'Divorced_Separated_Females']"
      ]
     },
     "execution_count": 80,
     "metadata": {},
     "output_type": "execute_result"
    }
   ],
   "source": [
    "df.columns.tolist()"
   ]
  },
  {
   "cell_type": "code",
   "execution_count": 81,
   "id": "900b3397",
   "metadata": {},
   "outputs": [],
   "source": [
    "df.rename(columns={'Thousands': 'Religion Type'}, inplace=True)"
   ]
  },
  {
   "cell_type": "code",
   "execution_count": 82,
   "id": "b9ed45f0",
   "metadata": {},
   "outputs": [],
   "source": [
    "df = df.drop(df.columns[[1, 2, 3,4, 7,10,13]], axis=1)"
   ]
  },
  {
   "cell_type": "code",
   "execution_count": 83,
   "id": "de065196",
   "metadata": {},
   "outputs": [
    {
     "data": {
      "text/plain": [
       "['Religion Type',\n",
       " 'Single_Males',\n",
       " 'Single_Females',\n",
       " 'Married_Males',\n",
       " 'Married_Females',\n",
       " 'Widowed_Males',\n",
       " 'Widowed_Females',\n",
       " 'Divorced_Separated_Males',\n",
       " 'Divorced_Separated_Females']"
      ]
     },
     "execution_count": 83,
     "metadata": {},
     "output_type": "execute_result"
    }
   ],
   "source": [
    "df.columns.tolist()"
   ]
  },
  {
   "cell_type": "code",
   "execution_count": 84,
   "id": "c6412b19",
   "metadata": {},
   "outputs": [
    {
     "data": {
      "application/vnd.microsoft.datawrangler.viewer.v0+json": {
       "columns": [
        {
         "name": "index",
         "rawType": "int64",
         "type": "integer"
        },
        {
         "name": "Religion Type",
         "rawType": "object",
         "type": "string"
        },
        {
         "name": "Single_Males",
         "rawType": "float64",
         "type": "float"
        },
        {
         "name": "Single_Females",
         "rawType": "float64",
         "type": "float"
        },
        {
         "name": "Married_Males",
         "rawType": "float64",
         "type": "float"
        },
        {
         "name": "Married_Females",
         "rawType": "float64",
         "type": "float"
        },
        {
         "name": "Widowed_Males",
         "rawType": "object",
         "type": "string"
        },
        {
         "name": "Widowed_Females",
         "rawType": "float64",
         "type": "float"
        },
        {
         "name": "Divorced_Separated_Males",
         "rawType": "object",
         "type": "string"
        },
        {
         "name": "Divorced_Separated_Females",
         "rawType": "float64",
         "type": "float"
        }
       ],
       "ref": "a8127266-f702-4ab9-988e-8ffa4466053c",
       "rows": [
        [
         "0",
         "Total",
         "533.2",
         "501.3",
         "984.7",
         "960.9",
         "28.9",
         "143.2",
         "42.7",
         "80.9"
        ],
        [
         "1",
         "No Religion",
         "128.9",
         "107.6",
         "175.4",
         "155.7",
         "4.2",
         "10.6",
         "8.7",
         "13.4"
        ],
        [
         "2",
         "With Religion",
         "404.3",
         "393.8",
         "809.4",
         "805.2",
         "24.8",
         "132.6",
         "34",
         "67.5"
        ],
        [
         "3",
         "Buddhism",
         "160.6",
         "149.4",
         "336.6",
         "333.2",
         "10.3",
         "54.3",
         "14.9",
         "28.0"
        ],
        [
         "4",
         "Taoism1/",
         "45.4",
         "42.2",
         "107.3",
         "95.4",
         "4.2",
         "22.8",
         "3.8",
         "5.2"
        ],
        [
         "5",
         "Islam",
         "84.3",
         "70.8",
         "129.9",
         "128.3",
         "5.2",
         "20.4",
         "6.6",
         "14.4"
        ],
        [
         "6",
         "Hinduism",
         "18.8",
         "17.3",
         "60.2",
         "53.4",
         "0.9",
         "7.0",
         "1.5",
         "3.5"
        ],
        [
         "7",
         "Sikhism",
         "1.5",
         "1.7",
         "3.5",
         "3.4",
         "na",
         "0.9",
         "0.2",
         "0.3"
        ],
        [
         "8",
         "Christianity",
         "92.4",
         "111.2",
         "169.3",
         "189.4",
         "4.1",
         "26.8",
         "6.9",
         "15.9"
        ],
        [
         "9",
         "Catholic",
         "33.5",
         "37.1",
         "60.0",
         "69.3",
         "1.5",
         "10.2",
         "3.1",
         "6.2"
        ],
        [
         "10",
         "Other Christians",
         "58.9",
         "74.1",
         "109.3",
         "120.1",
         "2.6",
         "16.6",
         "3.8",
         "9.7"
        ],
        [
         "11",
         "Other Religions",
         "1.3",
         "1.1",
         "2.6",
         "2.2",
         "na",
         "0.4",
         "na",
         "0.2"
        ]
       ],
       "shape": {
        "columns": 9,
        "rows": 12
       }
      },
      "text/html": [
       "<div>\n",
       "<style scoped>\n",
       "    .dataframe tbody tr th:only-of-type {\n",
       "        vertical-align: middle;\n",
       "    }\n",
       "\n",
       "    .dataframe tbody tr th {\n",
       "        vertical-align: top;\n",
       "    }\n",
       "\n",
       "    .dataframe thead th {\n",
       "        text-align: right;\n",
       "    }\n",
       "</style>\n",
       "<table border=\"1\" class=\"dataframe\">\n",
       "  <thead>\n",
       "    <tr style=\"text-align: right;\">\n",
       "      <th></th>\n",
       "      <th>Religion Type</th>\n",
       "      <th>Single_Males</th>\n",
       "      <th>Single_Females</th>\n",
       "      <th>Married_Males</th>\n",
       "      <th>Married_Females</th>\n",
       "      <th>Widowed_Males</th>\n",
       "      <th>Widowed_Females</th>\n",
       "      <th>Divorced_Separated_Males</th>\n",
       "      <th>Divorced_Separated_Females</th>\n",
       "    </tr>\n",
       "  </thead>\n",
       "  <tbody>\n",
       "    <tr>\n",
       "      <th>0</th>\n",
       "      <td>Total</td>\n",
       "      <td>533.2</td>\n",
       "      <td>501.3</td>\n",
       "      <td>984.7</td>\n",
       "      <td>960.9</td>\n",
       "      <td>28.9</td>\n",
       "      <td>143.2</td>\n",
       "      <td>42.7</td>\n",
       "      <td>80.9</td>\n",
       "    </tr>\n",
       "    <tr>\n",
       "      <th>1</th>\n",
       "      <td>No Religion</td>\n",
       "      <td>128.9</td>\n",
       "      <td>107.6</td>\n",
       "      <td>175.4</td>\n",
       "      <td>155.7</td>\n",
       "      <td>4.2</td>\n",
       "      <td>10.6</td>\n",
       "      <td>8.7</td>\n",
       "      <td>13.4</td>\n",
       "    </tr>\n",
       "    <tr>\n",
       "      <th>2</th>\n",
       "      <td>With Religion</td>\n",
       "      <td>404.3</td>\n",
       "      <td>393.8</td>\n",
       "      <td>809.4</td>\n",
       "      <td>805.2</td>\n",
       "      <td>24.8</td>\n",
       "      <td>132.6</td>\n",
       "      <td>34</td>\n",
       "      <td>67.5</td>\n",
       "    </tr>\n",
       "    <tr>\n",
       "      <th>3</th>\n",
       "      <td>Buddhism</td>\n",
       "      <td>160.6</td>\n",
       "      <td>149.4</td>\n",
       "      <td>336.6</td>\n",
       "      <td>333.2</td>\n",
       "      <td>10.3</td>\n",
       "      <td>54.3</td>\n",
       "      <td>14.9</td>\n",
       "      <td>28.0</td>\n",
       "    </tr>\n",
       "    <tr>\n",
       "      <th>4</th>\n",
       "      <td>Taoism1/</td>\n",
       "      <td>45.4</td>\n",
       "      <td>42.2</td>\n",
       "      <td>107.3</td>\n",
       "      <td>95.4</td>\n",
       "      <td>4.2</td>\n",
       "      <td>22.8</td>\n",
       "      <td>3.8</td>\n",
       "      <td>5.2</td>\n",
       "    </tr>\n",
       "    <tr>\n",
       "      <th>5</th>\n",
       "      <td>Islam</td>\n",
       "      <td>84.3</td>\n",
       "      <td>70.8</td>\n",
       "      <td>129.9</td>\n",
       "      <td>128.3</td>\n",
       "      <td>5.2</td>\n",
       "      <td>20.4</td>\n",
       "      <td>6.6</td>\n",
       "      <td>14.4</td>\n",
       "    </tr>\n",
       "    <tr>\n",
       "      <th>6</th>\n",
       "      <td>Hinduism</td>\n",
       "      <td>18.8</td>\n",
       "      <td>17.3</td>\n",
       "      <td>60.2</td>\n",
       "      <td>53.4</td>\n",
       "      <td>0.9</td>\n",
       "      <td>7.0</td>\n",
       "      <td>1.5</td>\n",
       "      <td>3.5</td>\n",
       "    </tr>\n",
       "    <tr>\n",
       "      <th>7</th>\n",
       "      <td>Sikhism</td>\n",
       "      <td>1.5</td>\n",
       "      <td>1.7</td>\n",
       "      <td>3.5</td>\n",
       "      <td>3.4</td>\n",
       "      <td>na</td>\n",
       "      <td>0.9</td>\n",
       "      <td>0.2</td>\n",
       "      <td>0.3</td>\n",
       "    </tr>\n",
       "    <tr>\n",
       "      <th>8</th>\n",
       "      <td>Christianity</td>\n",
       "      <td>92.4</td>\n",
       "      <td>111.2</td>\n",
       "      <td>169.3</td>\n",
       "      <td>189.4</td>\n",
       "      <td>4.1</td>\n",
       "      <td>26.8</td>\n",
       "      <td>6.9</td>\n",
       "      <td>15.9</td>\n",
       "    </tr>\n",
       "    <tr>\n",
       "      <th>9</th>\n",
       "      <td>Catholic</td>\n",
       "      <td>33.5</td>\n",
       "      <td>37.1</td>\n",
       "      <td>60.0</td>\n",
       "      <td>69.3</td>\n",
       "      <td>1.5</td>\n",
       "      <td>10.2</td>\n",
       "      <td>3.1</td>\n",
       "      <td>6.2</td>\n",
       "    </tr>\n",
       "    <tr>\n",
       "      <th>10</th>\n",
       "      <td>Other Christians</td>\n",
       "      <td>58.9</td>\n",
       "      <td>74.1</td>\n",
       "      <td>109.3</td>\n",
       "      <td>120.1</td>\n",
       "      <td>2.6</td>\n",
       "      <td>16.6</td>\n",
       "      <td>3.8</td>\n",
       "      <td>9.7</td>\n",
       "    </tr>\n",
       "    <tr>\n",
       "      <th>11</th>\n",
       "      <td>Other Religions</td>\n",
       "      <td>1.3</td>\n",
       "      <td>1.1</td>\n",
       "      <td>2.6</td>\n",
       "      <td>2.2</td>\n",
       "      <td>na</td>\n",
       "      <td>0.4</td>\n",
       "      <td>na</td>\n",
       "      <td>0.2</td>\n",
       "    </tr>\n",
       "  </tbody>\n",
       "</table>\n",
       "</div>"
      ],
      "text/plain": [
       "       Religion Type  Single_Males  Single_Females  Married_Males  \\\n",
       "0              Total         533.2           501.3          984.7   \n",
       "1        No Religion         128.9           107.6          175.4   \n",
       "2      With Religion         404.3           393.8          809.4   \n",
       "3           Buddhism         160.6           149.4          336.6   \n",
       "4           Taoism1/          45.4            42.2          107.3   \n",
       "5              Islam          84.3            70.8          129.9   \n",
       "6           Hinduism          18.8            17.3           60.2   \n",
       "7            Sikhism           1.5             1.7            3.5   \n",
       "8       Christianity          92.4           111.2          169.3   \n",
       "9           Catholic          33.5            37.1           60.0   \n",
       "10  Other Christians          58.9            74.1          109.3   \n",
       "11   Other Religions           1.3             1.1            2.6   \n",
       "\n",
       "    Married_Females Widowed_Males  Widowed_Females Divorced_Separated_Males  \\\n",
       "0             960.9          28.9            143.2                     42.7   \n",
       "1             155.7           4.2             10.6                      8.7   \n",
       "2             805.2          24.8            132.6                       34   \n",
       "3             333.2          10.3             54.3                     14.9   \n",
       "4              95.4           4.2             22.8                      3.8   \n",
       "5             128.3           5.2             20.4                      6.6   \n",
       "6              53.4           0.9              7.0                      1.5   \n",
       "7               3.4            na              0.9                      0.2   \n",
       "8             189.4           4.1             26.8                      6.9   \n",
       "9              69.3           1.5             10.2                      3.1   \n",
       "10            120.1           2.6             16.6                      3.8   \n",
       "11              2.2            na              0.4                       na   \n",
       "\n",
       "    Divorced_Separated_Females  \n",
       "0                         80.9  \n",
       "1                         13.4  \n",
       "2                         67.5  \n",
       "3                         28.0  \n",
       "4                          5.2  \n",
       "5                         14.4  \n",
       "6                          3.5  \n",
       "7                          0.3  \n",
       "8                         15.9  \n",
       "9                          6.2  \n",
       "10                         9.7  \n",
       "11                         0.2  "
      ]
     },
     "execution_count": 84,
     "metadata": {},
     "output_type": "execute_result"
    }
   ],
   "source": [
    "df"
   ]
  },
  {
   "cell_type": "code",
   "execution_count": 85,
   "id": "af3ee74a",
   "metadata": {},
   "outputs": [
    {
     "data": {
      "application/vnd.microsoft.datawrangler.viewer.v0+json": {
       "columns": [
        {
         "name": "index",
         "rawType": "int64",
         "type": "integer"
        },
        {
         "name": "Religion Type",
         "rawType": "object",
         "type": "string"
        },
        {
         "name": "Status_Gender",
         "rawType": "object",
         "type": "string"
        },
        {
         "name": "Count",
         "rawType": "object",
         "type": "unknown"
        }
       ],
       "ref": "ad8f0c1e-0c80-4f5a-b7c1-fb9cb42410b6",
       "rows": [
        [
         "0",
         "Total",
         "Single_Males",
         "533.2"
        ],
        [
         "1",
         "No Religion",
         "Single_Males",
         "128.9"
        ],
        [
         "2",
         "With Religion",
         "Single_Males",
         "404.3"
        ],
        [
         "3",
         "Buddhism",
         "Single_Males",
         "160.6"
        ],
        [
         "4",
         "Taoism1/",
         "Single_Males",
         "45.4"
        ],
        [
         "5",
         "Islam",
         "Single_Males",
         "84.3"
        ],
        [
         "6",
         "Hinduism",
         "Single_Males",
         "18.8"
        ],
        [
         "7",
         "Sikhism",
         "Single_Males",
         "1.5"
        ],
        [
         "8",
         "Christianity",
         "Single_Males",
         "92.4"
        ],
        [
         "9",
         "Catholic",
         "Single_Males",
         "33.5"
        ],
        [
         "10",
         "Other Christians",
         "Single_Males",
         "58.9"
        ],
        [
         "11",
         "Other Religions",
         "Single_Males",
         "1.3"
        ],
        [
         "12",
         "Total",
         "Single_Females",
         "501.3"
        ],
        [
         "13",
         "No Religion",
         "Single_Females",
         "107.6"
        ],
        [
         "14",
         "With Religion",
         "Single_Females",
         "393.8"
        ],
        [
         "15",
         "Buddhism",
         "Single_Females",
         "149.4"
        ],
        [
         "16",
         "Taoism1/",
         "Single_Females",
         "42.2"
        ],
        [
         "17",
         "Islam",
         "Single_Females",
         "70.8"
        ],
        [
         "18",
         "Hinduism",
         "Single_Females",
         "17.3"
        ],
        [
         "19",
         "Sikhism",
         "Single_Females",
         "1.7"
        ],
        [
         "20",
         "Christianity",
         "Single_Females",
         "111.2"
        ],
        [
         "21",
         "Catholic",
         "Single_Females",
         "37.1"
        ],
        [
         "22",
         "Other Christians",
         "Single_Females",
         "74.1"
        ],
        [
         "23",
         "Other Religions",
         "Single_Females",
         "1.1"
        ],
        [
         "24",
         "Total",
         "Married_Males",
         "984.7"
        ],
        [
         "25",
         "No Religion",
         "Married_Males",
         "175.4"
        ],
        [
         "26",
         "With Religion",
         "Married_Males",
         "809.4"
        ],
        [
         "27",
         "Buddhism",
         "Married_Males",
         "336.6"
        ],
        [
         "28",
         "Taoism1/",
         "Married_Males",
         "107.3"
        ],
        [
         "29",
         "Islam",
         "Married_Males",
         "129.9"
        ],
        [
         "30",
         "Hinduism",
         "Married_Males",
         "60.2"
        ],
        [
         "31",
         "Sikhism",
         "Married_Males",
         "3.5"
        ],
        [
         "32",
         "Christianity",
         "Married_Males",
         "169.3"
        ],
        [
         "33",
         "Catholic",
         "Married_Males",
         "60.0"
        ],
        [
         "34",
         "Other Christians",
         "Married_Males",
         "109.3"
        ],
        [
         "35",
         "Other Religions",
         "Married_Males",
         "2.6"
        ],
        [
         "36",
         "Total",
         "Married_Females",
         "960.9"
        ],
        [
         "37",
         "No Religion",
         "Married_Females",
         "155.7"
        ],
        [
         "38",
         "With Religion",
         "Married_Females",
         "805.2"
        ],
        [
         "39",
         "Buddhism",
         "Married_Females",
         "333.2"
        ],
        [
         "40",
         "Taoism1/",
         "Married_Females",
         "95.4"
        ],
        [
         "41",
         "Islam",
         "Married_Females",
         "128.3"
        ],
        [
         "42",
         "Hinduism",
         "Married_Females",
         "53.4"
        ],
        [
         "43",
         "Sikhism",
         "Married_Females",
         "3.4"
        ],
        [
         "44",
         "Christianity",
         "Married_Females",
         "189.4"
        ],
        [
         "45",
         "Catholic",
         "Married_Females",
         "69.3"
        ],
        [
         "46",
         "Other Christians",
         "Married_Females",
         "120.1"
        ],
        [
         "47",
         "Other Religions",
         "Married_Females",
         "2.2"
        ],
        [
         "48",
         "Total",
         "Widowed_Males",
         "28.9"
        ],
        [
         "49",
         "No Religion",
         "Widowed_Males",
         "4.2"
        ]
       ],
       "shape": {
        "columns": 3,
        "rows": 96
       }
      },
      "text/html": [
       "<div>\n",
       "<style scoped>\n",
       "    .dataframe tbody tr th:only-of-type {\n",
       "        vertical-align: middle;\n",
       "    }\n",
       "\n",
       "    .dataframe tbody tr th {\n",
       "        vertical-align: top;\n",
       "    }\n",
       "\n",
       "    .dataframe thead th {\n",
       "        text-align: right;\n",
       "    }\n",
       "</style>\n",
       "<table border=\"1\" class=\"dataframe\">\n",
       "  <thead>\n",
       "    <tr style=\"text-align: right;\">\n",
       "      <th></th>\n",
       "      <th>Religion Type</th>\n",
       "      <th>Status_Gender</th>\n",
       "      <th>Count</th>\n",
       "    </tr>\n",
       "  </thead>\n",
       "  <tbody>\n",
       "    <tr>\n",
       "      <th>0</th>\n",
       "      <td>Total</td>\n",
       "      <td>Single_Males</td>\n",
       "      <td>533.2</td>\n",
       "    </tr>\n",
       "    <tr>\n",
       "      <th>1</th>\n",
       "      <td>No Religion</td>\n",
       "      <td>Single_Males</td>\n",
       "      <td>128.9</td>\n",
       "    </tr>\n",
       "    <tr>\n",
       "      <th>2</th>\n",
       "      <td>With Religion</td>\n",
       "      <td>Single_Males</td>\n",
       "      <td>404.3</td>\n",
       "    </tr>\n",
       "    <tr>\n",
       "      <th>3</th>\n",
       "      <td>Buddhism</td>\n",
       "      <td>Single_Males</td>\n",
       "      <td>160.6</td>\n",
       "    </tr>\n",
       "    <tr>\n",
       "      <th>4</th>\n",
       "      <td>Taoism1/</td>\n",
       "      <td>Single_Males</td>\n",
       "      <td>45.4</td>\n",
       "    </tr>\n",
       "    <tr>\n",
       "      <th>...</th>\n",
       "      <td>...</td>\n",
       "      <td>...</td>\n",
       "      <td>...</td>\n",
       "    </tr>\n",
       "    <tr>\n",
       "      <th>91</th>\n",
       "      <td>Sikhism</td>\n",
       "      <td>Divorced_Separated_Females</td>\n",
       "      <td>0.3</td>\n",
       "    </tr>\n",
       "    <tr>\n",
       "      <th>92</th>\n",
       "      <td>Christianity</td>\n",
       "      <td>Divorced_Separated_Females</td>\n",
       "      <td>15.9</td>\n",
       "    </tr>\n",
       "    <tr>\n",
       "      <th>93</th>\n",
       "      <td>Catholic</td>\n",
       "      <td>Divorced_Separated_Females</td>\n",
       "      <td>6.2</td>\n",
       "    </tr>\n",
       "    <tr>\n",
       "      <th>94</th>\n",
       "      <td>Other Christians</td>\n",
       "      <td>Divorced_Separated_Females</td>\n",
       "      <td>9.7</td>\n",
       "    </tr>\n",
       "    <tr>\n",
       "      <th>95</th>\n",
       "      <td>Other Religions</td>\n",
       "      <td>Divorced_Separated_Females</td>\n",
       "      <td>0.2</td>\n",
       "    </tr>\n",
       "  </tbody>\n",
       "</table>\n",
       "<p>96 rows × 3 columns</p>\n",
       "</div>"
      ],
      "text/plain": [
       "       Religion Type               Status_Gender  Count\n",
       "0              Total                Single_Males  533.2\n",
       "1        No Religion                Single_Males  128.9\n",
       "2      With Religion                Single_Males  404.3\n",
       "3           Buddhism                Single_Males  160.6\n",
       "4           Taoism1/                Single_Males   45.4\n",
       "..               ...                         ...    ...\n",
       "91           Sikhism  Divorced_Separated_Females    0.3\n",
       "92      Christianity  Divorced_Separated_Females   15.9\n",
       "93          Catholic  Divorced_Separated_Females    6.2\n",
       "94  Other Christians  Divorced_Separated_Females    9.7\n",
       "95   Other Religions  Divorced_Separated_Females    0.2\n",
       "\n",
       "[96 rows x 3 columns]"
      ]
     },
     "execution_count": 85,
     "metadata": {},
     "output_type": "execute_result"
    }
   ],
   "source": [
    "# Melt all marital/gender columns into two columns: 'variable' and 'Count'\n",
    "df_tidy = df.melt(\n",
    "    id_vars='Religion Type',\n",
    "    var_name='Status_Gender',\n",
    "    value_name='Count'\n",
    ")\n",
    "df_tidy"
   ]
  },
  {
   "cell_type": "code",
   "execution_count": 86,
   "id": "75d2d26a",
   "metadata": {},
   "outputs": [],
   "source": [
    "# Fix inconsistent names\n",
    "df_tidy['Status_Gender'] = df_tidy['Status_Gender'].replace({\n",
    "    'Divorced_Separated_Males': 'Divorced_Males',\n",
    "    'Divorced_Separated_Females': 'Divorced_Females'\n",
    "})"
   ]
  },
  {
   "cell_type": "code",
   "execution_count": 87,
   "id": "4f2c7bbe",
   "metadata": {},
   "outputs": [],
   "source": [
    "# Separate the 'Status_Gender' into two columns (Marital Status, Gender)\n",
    "df_tidy[['Marital Status', 'Gender']] = df_tidy['Status_Gender'].str.split('_', expand=True)\n"
   ]
  },
  {
   "cell_type": "code",
   "execution_count": 88,
   "id": "2e8ecbb3",
   "metadata": {},
   "outputs": [],
   "source": [
    "df_tidy.drop(columns=['Status_Gender'], inplace=True)"
   ]
  },
  {
   "cell_type": "code",
   "execution_count": 89,
   "id": "d021dfe7",
   "metadata": {},
   "outputs": [],
   "source": [
    "df_tidy.rename(columns={'Count': 'Value (Thousands)'}, inplace=True)"
   ]
  },
  {
   "cell_type": "code",
   "execution_count": 90,
   "id": "e585195e",
   "metadata": {},
   "outputs": [],
   "source": [
    "df_tidy['Gender'] = df_tidy['Gender'].replace({\n",
    "    'Males' : \"Male\",\n",
    "    \"Females\" : \"Female\"})\n"
   ]
  },
  {
   "cell_type": "code",
   "execution_count": 91,
   "id": "3f37aa94",
   "metadata": {},
   "outputs": [],
   "source": [
    "df_tidy['Religion Type'] = df_tidy['Religion Type'].replace({\n",
    "    \"Taoism1/\" : \"Taoism\"})"
   ]
  },
  {
   "cell_type": "code",
   "execution_count": 92,
   "id": "61c017a4",
   "metadata": {},
   "outputs": [],
   "source": [
    "df_tidy.drop(index=0, inplace=True)\n",
    "df_tidy\n",
    "df_tidy.to_csv(\"tidy_religion_marital_status.csv\", index=False)"
   ]
  },
  {
   "cell_type": "code",
   "execution_count": 93,
   "id": "5403ffdb",
   "metadata": {},
   "outputs": [
    {
     "data": {
      "application/vnd.microsoft.datawrangler.viewer.v0+json": {
       "columns": [
        {
         "name": "Religion Type",
         "rawType": "object",
         "type": "string"
        },
        {
         "name": "count",
         "rawType": "int64",
         "type": "integer"
        }
       ],
       "ref": "72aa0186-dbfa-4d3f-9795-5ca7d644747b",
       "rows": [
        [
         "No Religion",
         "8"
        ],
        [
         "With Religion",
         "8"
        ],
        [
         "Buddhism",
         "8"
        ],
        [
         "Taoism",
         "8"
        ],
        [
         "Islam",
         "8"
        ],
        [
         "Hinduism",
         "8"
        ],
        [
         "Sikhism",
         "8"
        ],
        [
         "Christianity",
         "8"
        ],
        [
         "Catholic",
         "8"
        ],
        [
         "Other Christians",
         "8"
        ],
        [
         "Other Religions",
         "8"
        ],
        [
         "Total",
         "7"
        ]
       ],
       "shape": {
        "columns": 1,
        "rows": 12
       }
      },
      "text/plain": [
       "Religion Type\n",
       "No Religion         8\n",
       "With Religion       8\n",
       "Buddhism            8\n",
       "Taoism              8\n",
       "Islam               8\n",
       "Hinduism            8\n",
       "Sikhism             8\n",
       "Christianity        8\n",
       "Catholic            8\n",
       "Other Christians    8\n",
       "Other Religions     8\n",
       "Total               7\n",
       "Name: count, dtype: int64"
      ]
     },
     "execution_count": 93,
     "metadata": {},
     "output_type": "execute_result"
    }
   ],
   "source": [
    "df_tidy['Religion Type'].value_counts()"
   ]
  },
  {
   "cell_type": "code",
   "execution_count": 94,
   "id": "b792e047",
   "metadata": {},
   "outputs": [],
   "source": [
    "df_tidy['Religion Type'] = df_tidy['Religion Type'].replace({\n",
    "    \"No Religion\" : \"Atheism\"})"
   ]
  },
  {
   "cell_type": "code",
   "execution_count": 95,
   "id": "78edf9df",
   "metadata": {},
   "outputs": [],
   "source": [
    "df_filtered =  df_tidy[~df_tidy['Religion Type'].isin(['With Religion', 'Total'])].copy()"
   ]
  },
  {
   "cell_type": "code",
   "execution_count": 96,
   "id": "536192d3",
   "metadata": {},
   "outputs": [],
   "source": [
    "df_filtered.to_csv(\"tidy_religion_marital_status.csv\", index=False)"
   ]
  },
  {
   "cell_type": "code",
   "execution_count": null,
   "id": "1c3ca86a",
   "metadata": {},
   "outputs": [
    {
     "data": {
      "application/vnd.microsoft.datawrangler.viewer.v0+json": {
       "columns": [
        {
         "name": "index",
         "rawType": "int64",
         "type": "integer"
        },
        {
         "name": "Religion Type",
         "rawType": "object",
         "type": "string"
        },
        {
         "name": "Marital Status",
         "rawType": "object",
         "type": "string"
        },
        {
         "name": "Gender",
         "rawType": "object",
         "type": "string"
        },
        {
         "name": "Value",
         "rawType": "float64",
         "type": "float"
        }
       ],
       "ref": "5659c06a-8624-40b0-a7fe-814c027bbb9c",
       "rows": [
        [
         "0",
         "Atheism",
         "Single",
         "Male",
         "128900.0"
        ],
        [
         "1",
         "Buddhism",
         "Single",
         "Male",
         "160600.0"
        ],
        [
         "2",
         "Taoism",
         "Single",
         "Male",
         "45400.0"
        ],
        [
         "3",
         "Islam",
         "Single",
         "Male",
         "84300.0"
        ],
        [
         "4",
         "Hinduism",
         "Single",
         "Male",
         "18800.0"
        ],
        [
         "5",
         "Sikhism",
         "Single",
         "Male",
         "1500.0"
        ],
        [
         "6",
         "Christianity",
         "Single",
         "Male",
         "92400.0"
        ],
        [
         "7",
         "Catholic",
         "Single",
         "Male",
         "33500.0"
        ],
        [
         "8",
         "Other Christians",
         "Single",
         "Male",
         "58900.0"
        ],
        [
         "9",
         "Other Religions",
         "Single",
         "Male",
         "1300.0"
        ],
        [
         "10",
         "Atheism",
         "Single",
         "Female",
         "107600.0"
        ],
        [
         "11",
         "Buddhism",
         "Single",
         "Female",
         "149400.0"
        ],
        [
         "12",
         "Taoism",
         "Single",
         "Female",
         "42200.0"
        ],
        [
         "13",
         "Islam",
         "Single",
         "Female",
         "70800.0"
        ],
        [
         "14",
         "Hinduism",
         "Single",
         "Female",
         "17300.0"
        ],
        [
         "15",
         "Sikhism",
         "Single",
         "Female",
         "1700.0"
        ],
        [
         "16",
         "Christianity",
         "Single",
         "Female",
         "111200.0"
        ],
        [
         "17",
         "Catholic",
         "Single",
         "Female",
         "37100.0"
        ],
        [
         "18",
         "Other Christians",
         "Single",
         "Female",
         "74100.0"
        ],
        [
         "19",
         "Other Religions",
         "Single",
         "Female",
         "1100.0"
        ],
        [
         "20",
         "Atheism",
         "Married",
         "Male",
         "175400.0"
        ],
        [
         "21",
         "Buddhism",
         "Married",
         "Male",
         "336600.0"
        ],
        [
         "22",
         "Taoism",
         "Married",
         "Male",
         "107300.0"
        ],
        [
         "23",
         "Islam",
         "Married",
         "Male",
         "129900.0"
        ],
        [
         "24",
         "Hinduism",
         "Married",
         "Male",
         "60200.0"
        ],
        [
         "25",
         "Sikhism",
         "Married",
         "Male",
         "3500.0"
        ],
        [
         "26",
         "Christianity",
         "Married",
         "Male",
         "169300.0"
        ],
        [
         "27",
         "Catholic",
         "Married",
         "Male",
         "60000.0"
        ],
        [
         "28",
         "Other Christians",
         "Married",
         "Male",
         "109300.0"
        ],
        [
         "29",
         "Other Religions",
         "Married",
         "Male",
         "2600.0"
        ],
        [
         "30",
         "Atheism",
         "Married",
         "Female",
         "155700.0"
        ],
        [
         "31",
         "Buddhism",
         "Married",
         "Female",
         "333200.0"
        ],
        [
         "32",
         "Taoism",
         "Married",
         "Female",
         "95400.0"
        ],
        [
         "33",
         "Islam",
         "Married",
         "Female",
         "128300.00000000001"
        ],
        [
         "34",
         "Hinduism",
         "Married",
         "Female",
         "53400.0"
        ],
        [
         "35",
         "Sikhism",
         "Married",
         "Female",
         "3400.0"
        ],
        [
         "36",
         "Christianity",
         "Married",
         "Female",
         "189400.0"
        ],
        [
         "37",
         "Catholic",
         "Married",
         "Female",
         "69300.0"
        ],
        [
         "38",
         "Other Christians",
         "Married",
         "Female",
         "120100.0"
        ],
        [
         "39",
         "Other Religions",
         "Married",
         "Female",
         "2200.0"
        ],
        [
         "40",
         "Atheism",
         "Widowed",
         "Male",
         "4200.0"
        ],
        [
         "41",
         "Buddhism",
         "Widowed",
         "Male",
         "10300.0"
        ],
        [
         "42",
         "Taoism",
         "Widowed",
         "Male",
         "4200.0"
        ],
        [
         "43",
         "Islam",
         "Widowed",
         "Male",
         "5200.0"
        ],
        [
         "44",
         "Hinduism",
         "Widowed",
         "Male",
         "900.0"
        ],
        [
         "45",
         "Sikhism",
         "Widowed",
         "Male",
         null
        ],
        [
         "46",
         "Christianity",
         "Widowed",
         "Male",
         "4100.0"
        ],
        [
         "47",
         "Catholic",
         "Widowed",
         "Male",
         "1500.0"
        ],
        [
         "48",
         "Other Christians",
         "Widowed",
         "Male",
         "2600.0"
        ],
        [
         "49",
         "Other Religions",
         "Widowed",
         "Male",
         null
        ]
       ],
       "shape": {
        "columns": 4,
        "rows": 80
       }
      },
      "text/html": [
       "<div>\n",
       "<style scoped>\n",
       "    .dataframe tbody tr th:only-of-type {\n",
       "        vertical-align: middle;\n",
       "    }\n",
       "\n",
       "    .dataframe tbody tr th {\n",
       "        vertical-align: top;\n",
       "    }\n",
       "\n",
       "    .dataframe thead th {\n",
       "        text-align: right;\n",
       "    }\n",
       "</style>\n",
       "<table border=\"1\" class=\"dataframe\">\n",
       "  <thead>\n",
       "    <tr style=\"text-align: right;\">\n",
       "      <th></th>\n",
       "      <th>Religion Type</th>\n",
       "      <th>Marital Status</th>\n",
       "      <th>Gender</th>\n",
       "      <th>Value</th>\n",
       "    </tr>\n",
       "  </thead>\n",
       "  <tbody>\n",
       "    <tr>\n",
       "      <th>0</th>\n",
       "      <td>Atheism</td>\n",
       "      <td>Single</td>\n",
       "      <td>Male</td>\n",
       "      <td>128900.0</td>\n",
       "    </tr>\n",
       "    <tr>\n",
       "      <th>1</th>\n",
       "      <td>Buddhism</td>\n",
       "      <td>Single</td>\n",
       "      <td>Male</td>\n",
       "      <td>160600.0</td>\n",
       "    </tr>\n",
       "    <tr>\n",
       "      <th>2</th>\n",
       "      <td>Taoism</td>\n",
       "      <td>Single</td>\n",
       "      <td>Male</td>\n",
       "      <td>45400.0</td>\n",
       "    </tr>\n",
       "    <tr>\n",
       "      <th>3</th>\n",
       "      <td>Islam</td>\n",
       "      <td>Single</td>\n",
       "      <td>Male</td>\n",
       "      <td>84300.0</td>\n",
       "    </tr>\n",
       "    <tr>\n",
       "      <th>4</th>\n",
       "      <td>Hinduism</td>\n",
       "      <td>Single</td>\n",
       "      <td>Male</td>\n",
       "      <td>18800.0</td>\n",
       "    </tr>\n",
       "    <tr>\n",
       "      <th>...</th>\n",
       "      <td>...</td>\n",
       "      <td>...</td>\n",
       "      <td>...</td>\n",
       "      <td>...</td>\n",
       "    </tr>\n",
       "    <tr>\n",
       "      <th>75</th>\n",
       "      <td>Sikhism</td>\n",
       "      <td>Divorced</td>\n",
       "      <td>Female</td>\n",
       "      <td>300.0</td>\n",
       "    </tr>\n",
       "    <tr>\n",
       "      <th>76</th>\n",
       "      <td>Christianity</td>\n",
       "      <td>Divorced</td>\n",
       "      <td>Female</td>\n",
       "      <td>15900.0</td>\n",
       "    </tr>\n",
       "    <tr>\n",
       "      <th>77</th>\n",
       "      <td>Catholic</td>\n",
       "      <td>Divorced</td>\n",
       "      <td>Female</td>\n",
       "      <td>6200.0</td>\n",
       "    </tr>\n",
       "    <tr>\n",
       "      <th>78</th>\n",
       "      <td>Other Christians</td>\n",
       "      <td>Divorced</td>\n",
       "      <td>Female</td>\n",
       "      <td>9700.0</td>\n",
       "    </tr>\n",
       "    <tr>\n",
       "      <th>79</th>\n",
       "      <td>Other Religions</td>\n",
       "      <td>Divorced</td>\n",
       "      <td>Female</td>\n",
       "      <td>200.0</td>\n",
       "    </tr>\n",
       "  </tbody>\n",
       "</table>\n",
       "<p>80 rows × 4 columns</p>\n",
       "</div>"
      ],
      "text/plain": [
       "       Religion Type Marital Status  Gender     Value\n",
       "0            Atheism         Single    Male  128900.0\n",
       "1           Buddhism         Single    Male  160600.0\n",
       "2             Taoism         Single    Male   45400.0\n",
       "3              Islam         Single    Male   84300.0\n",
       "4           Hinduism         Single    Male   18800.0\n",
       "..               ...            ...     ...       ...\n",
       "75           Sikhism       Divorced  Female     300.0\n",
       "76      Christianity       Divorced  Female   15900.0\n",
       "77          Catholic       Divorced  Female    6200.0\n",
       "78  Other Christians       Divorced  Female    9700.0\n",
       "79   Other Religions       Divorced  Female     200.0\n",
       "\n",
       "[80 rows x 4 columns]"
      ]
     },
     "execution_count": 101,
     "metadata": {},
     "output_type": "execute_result"
    }
   ],
   "source": [
    "df_new = df_filtered.reset_index(drop=True)\n",
    "df_new[\"Value\"] = df_new[\"Value (Thousands)\"] * 1000\n",
    "df_new.drop(columns=[\"Value (Thousands)\"], inplace=True)"
   ]
  },
  {
   "cell_type": "code",
   "execution_count": null,
   "id": "392b81ed",
   "metadata": {},
   "outputs": [
    {
     "data": {
      "application/vnd.microsoft.datawrangler.viewer.v0+json": {
       "columns": [
        {
         "name": "index",
         "rawType": "int64",
         "type": "integer"
        },
        {
         "name": "Religion Type",
         "rawType": "object",
         "type": "string"
        },
        {
         "name": "Marital Status",
         "rawType": "object",
         "type": "string"
        },
        {
         "name": "Value",
         "rawType": "float64",
         "type": "float"
        }
       ],
       "ref": "d96f935e-98f6-4ee0-87ad-b52fb4859adb",
       "rows": [
        [
         "0",
         "Atheism",
         "Divorced",
         "22100.0"
        ],
        [
         "1",
         "Atheism",
         "Married",
         "331100.0"
        ],
        [
         "2",
         "Atheism",
         "Single",
         "236500.0"
        ],
        [
         "3",
         "Atheism",
         "Widowed",
         "14800.0"
        ],
        [
         "4",
         "Buddhism",
         "Divorced",
         "42900.0"
        ],
        [
         "5",
         "Buddhism",
         "Married",
         "669800.0"
        ],
        [
         "6",
         "Buddhism",
         "Single",
         "310000.0"
        ],
        [
         "7",
         "Buddhism",
         "Widowed",
         "64600.0"
        ],
        [
         "8",
         "Catholic",
         "Divorced",
         "9300.0"
        ],
        [
         "9",
         "Catholic",
         "Married",
         "129300.0"
        ],
        [
         "10",
         "Catholic",
         "Single",
         "70600.0"
        ],
        [
         "11",
         "Catholic",
         "Widowed",
         "11700.0"
        ],
        [
         "12",
         "Christianity",
         "Divorced",
         "22800.0"
        ],
        [
         "13",
         "Christianity",
         "Married",
         "358700.0"
        ],
        [
         "14",
         "Christianity",
         "Single",
         "203600.0"
        ],
        [
         "15",
         "Christianity",
         "Widowed",
         "30900.0"
        ],
        [
         "16",
         "Hinduism",
         "Divorced",
         "5000.0"
        ],
        [
         "17",
         "Hinduism",
         "Married",
         "113600.0"
        ],
        [
         "18",
         "Hinduism",
         "Single",
         "36100.0"
        ],
        [
         "19",
         "Hinduism",
         "Widowed",
         "7900.0"
        ],
        [
         "20",
         "Islam",
         "Divorced",
         "21000.0"
        ],
        [
         "21",
         "Islam",
         "Married",
         "258200.0"
        ],
        [
         "22",
         "Islam",
         "Single",
         "155100.0"
        ],
        [
         "23",
         "Islam",
         "Widowed",
         "25600.0"
        ],
        [
         "24",
         "Other Christians",
         "Divorced",
         "13500.0"
        ],
        [
         "25",
         "Other Christians",
         "Married",
         "229400.0"
        ],
        [
         "26",
         "Other Christians",
         "Single",
         "133000.0"
        ],
        [
         "27",
         "Other Christians",
         "Widowed",
         "19200.0"
        ],
        [
         "28",
         "Other Religions",
         "Divorced",
         "200.0"
        ],
        [
         "29",
         "Other Religions",
         "Married",
         "4800.0"
        ],
        [
         "30",
         "Other Religions",
         "Single",
         "2400.0"
        ],
        [
         "31",
         "Other Religions",
         "Widowed",
         "400.0"
        ],
        [
         "32",
         "Sikhism",
         "Divorced",
         "500.0"
        ],
        [
         "33",
         "Sikhism",
         "Married",
         "6900.0"
        ],
        [
         "34",
         "Sikhism",
         "Single",
         "3200.0"
        ],
        [
         "35",
         "Sikhism",
         "Widowed",
         "900.0"
        ],
        [
         "36",
         "Taoism",
         "Divorced",
         "9000.0"
        ],
        [
         "37",
         "Taoism",
         "Married",
         "202700.0"
        ],
        [
         "38",
         "Taoism",
         "Single",
         "87600.0"
        ],
        [
         "39",
         "Taoism",
         "Widowed",
         "27000.0"
        ]
       ],
       "shape": {
        "columns": 3,
        "rows": 40
       }
      },
      "text/html": [
       "<div>\n",
       "<style scoped>\n",
       "    .dataframe tbody tr th:only-of-type {\n",
       "        vertical-align: middle;\n",
       "    }\n",
       "\n",
       "    .dataframe tbody tr th {\n",
       "        vertical-align: top;\n",
       "    }\n",
       "\n",
       "    .dataframe thead th {\n",
       "        text-align: right;\n",
       "    }\n",
       "</style>\n",
       "<table border=\"1\" class=\"dataframe\">\n",
       "  <thead>\n",
       "    <tr style=\"text-align: right;\">\n",
       "      <th></th>\n",
       "      <th>Religion Type</th>\n",
       "      <th>Marital Status</th>\n",
       "      <th>Value</th>\n",
       "    </tr>\n",
       "  </thead>\n",
       "  <tbody>\n",
       "    <tr>\n",
       "      <th>0</th>\n",
       "      <td>Atheism</td>\n",
       "      <td>Divorced</td>\n",
       "      <td>22100.0</td>\n",
       "    </tr>\n",
       "    <tr>\n",
       "      <th>1</th>\n",
       "      <td>Atheism</td>\n",
       "      <td>Married</td>\n",
       "      <td>331100.0</td>\n",
       "    </tr>\n",
       "    <tr>\n",
       "      <th>2</th>\n",
       "      <td>Atheism</td>\n",
       "      <td>Single</td>\n",
       "      <td>236500.0</td>\n",
       "    </tr>\n",
       "    <tr>\n",
       "      <th>3</th>\n",
       "      <td>Atheism</td>\n",
       "      <td>Widowed</td>\n",
       "      <td>14800.0</td>\n",
       "    </tr>\n",
       "    <tr>\n",
       "      <th>4</th>\n",
       "      <td>Buddhism</td>\n",
       "      <td>Divorced</td>\n",
       "      <td>42900.0</td>\n",
       "    </tr>\n",
       "    <tr>\n",
       "      <th>5</th>\n",
       "      <td>Buddhism</td>\n",
       "      <td>Married</td>\n",
       "      <td>669800.0</td>\n",
       "    </tr>\n",
       "    <tr>\n",
       "      <th>6</th>\n",
       "      <td>Buddhism</td>\n",
       "      <td>Single</td>\n",
       "      <td>310000.0</td>\n",
       "    </tr>\n",
       "    <tr>\n",
       "      <th>7</th>\n",
       "      <td>Buddhism</td>\n",
       "      <td>Widowed</td>\n",
       "      <td>64600.0</td>\n",
       "    </tr>\n",
       "    <tr>\n",
       "      <th>8</th>\n",
       "      <td>Catholic</td>\n",
       "      <td>Divorced</td>\n",
       "      <td>9300.0</td>\n",
       "    </tr>\n",
       "    <tr>\n",
       "      <th>9</th>\n",
       "      <td>Catholic</td>\n",
       "      <td>Married</td>\n",
       "      <td>129300.0</td>\n",
       "    </tr>\n",
       "    <tr>\n",
       "      <th>10</th>\n",
       "      <td>Catholic</td>\n",
       "      <td>Single</td>\n",
       "      <td>70600.0</td>\n",
       "    </tr>\n",
       "    <tr>\n",
       "      <th>11</th>\n",
       "      <td>Catholic</td>\n",
       "      <td>Widowed</td>\n",
       "      <td>11700.0</td>\n",
       "    </tr>\n",
       "    <tr>\n",
       "      <th>12</th>\n",
       "      <td>Christianity</td>\n",
       "      <td>Divorced</td>\n",
       "      <td>22800.0</td>\n",
       "    </tr>\n",
       "    <tr>\n",
       "      <th>13</th>\n",
       "      <td>Christianity</td>\n",
       "      <td>Married</td>\n",
       "      <td>358700.0</td>\n",
       "    </tr>\n",
       "    <tr>\n",
       "      <th>14</th>\n",
       "      <td>Christianity</td>\n",
       "      <td>Single</td>\n",
       "      <td>203600.0</td>\n",
       "    </tr>\n",
       "    <tr>\n",
       "      <th>15</th>\n",
       "      <td>Christianity</td>\n",
       "      <td>Widowed</td>\n",
       "      <td>30900.0</td>\n",
       "    </tr>\n",
       "    <tr>\n",
       "      <th>16</th>\n",
       "      <td>Hinduism</td>\n",
       "      <td>Divorced</td>\n",
       "      <td>5000.0</td>\n",
       "    </tr>\n",
       "    <tr>\n",
       "      <th>17</th>\n",
       "      <td>Hinduism</td>\n",
       "      <td>Married</td>\n",
       "      <td>113600.0</td>\n",
       "    </tr>\n",
       "    <tr>\n",
       "      <th>18</th>\n",
       "      <td>Hinduism</td>\n",
       "      <td>Single</td>\n",
       "      <td>36100.0</td>\n",
       "    </tr>\n",
       "    <tr>\n",
       "      <th>19</th>\n",
       "      <td>Hinduism</td>\n",
       "      <td>Widowed</td>\n",
       "      <td>7900.0</td>\n",
       "    </tr>\n",
       "    <tr>\n",
       "      <th>20</th>\n",
       "      <td>Islam</td>\n",
       "      <td>Divorced</td>\n",
       "      <td>21000.0</td>\n",
       "    </tr>\n",
       "    <tr>\n",
       "      <th>21</th>\n",
       "      <td>Islam</td>\n",
       "      <td>Married</td>\n",
       "      <td>258200.0</td>\n",
       "    </tr>\n",
       "    <tr>\n",
       "      <th>22</th>\n",
       "      <td>Islam</td>\n",
       "      <td>Single</td>\n",
       "      <td>155100.0</td>\n",
       "    </tr>\n",
       "    <tr>\n",
       "      <th>23</th>\n",
       "      <td>Islam</td>\n",
       "      <td>Widowed</td>\n",
       "      <td>25600.0</td>\n",
       "    </tr>\n",
       "    <tr>\n",
       "      <th>24</th>\n",
       "      <td>Other Christians</td>\n",
       "      <td>Divorced</td>\n",
       "      <td>13500.0</td>\n",
       "    </tr>\n",
       "    <tr>\n",
       "      <th>25</th>\n",
       "      <td>Other Christians</td>\n",
       "      <td>Married</td>\n",
       "      <td>229400.0</td>\n",
       "    </tr>\n",
       "    <tr>\n",
       "      <th>26</th>\n",
       "      <td>Other Christians</td>\n",
       "      <td>Single</td>\n",
       "      <td>133000.0</td>\n",
       "    </tr>\n",
       "    <tr>\n",
       "      <th>27</th>\n",
       "      <td>Other Christians</td>\n",
       "      <td>Widowed</td>\n",
       "      <td>19200.0</td>\n",
       "    </tr>\n",
       "    <tr>\n",
       "      <th>28</th>\n",
       "      <td>Other Religions</td>\n",
       "      <td>Divorced</td>\n",
       "      <td>200.0</td>\n",
       "    </tr>\n",
       "    <tr>\n",
       "      <th>29</th>\n",
       "      <td>Other Religions</td>\n",
       "      <td>Married</td>\n",
       "      <td>4800.0</td>\n",
       "    </tr>\n",
       "    <tr>\n",
       "      <th>30</th>\n",
       "      <td>Other Religions</td>\n",
       "      <td>Single</td>\n",
       "      <td>2400.0</td>\n",
       "    </tr>\n",
       "    <tr>\n",
       "      <th>31</th>\n",
       "      <td>Other Religions</td>\n",
       "      <td>Widowed</td>\n",
       "      <td>400.0</td>\n",
       "    </tr>\n",
       "    <tr>\n",
       "      <th>32</th>\n",
       "      <td>Sikhism</td>\n",
       "      <td>Divorced</td>\n",
       "      <td>500.0</td>\n",
       "    </tr>\n",
       "    <tr>\n",
       "      <th>33</th>\n",
       "      <td>Sikhism</td>\n",
       "      <td>Married</td>\n",
       "      <td>6900.0</td>\n",
       "    </tr>\n",
       "    <tr>\n",
       "      <th>34</th>\n",
       "      <td>Sikhism</td>\n",
       "      <td>Single</td>\n",
       "      <td>3200.0</td>\n",
       "    </tr>\n",
       "    <tr>\n",
       "      <th>35</th>\n",
       "      <td>Sikhism</td>\n",
       "      <td>Widowed</td>\n",
       "      <td>900.0</td>\n",
       "    </tr>\n",
       "    <tr>\n",
       "      <th>36</th>\n",
       "      <td>Taoism</td>\n",
       "      <td>Divorced</td>\n",
       "      <td>9000.0</td>\n",
       "    </tr>\n",
       "    <tr>\n",
       "      <th>37</th>\n",
       "      <td>Taoism</td>\n",
       "      <td>Married</td>\n",
       "      <td>202700.0</td>\n",
       "    </tr>\n",
       "    <tr>\n",
       "      <th>38</th>\n",
       "      <td>Taoism</td>\n",
       "      <td>Single</td>\n",
       "      <td>87600.0</td>\n",
       "    </tr>\n",
       "    <tr>\n",
       "      <th>39</th>\n",
       "      <td>Taoism</td>\n",
       "      <td>Widowed</td>\n",
       "      <td>27000.0</td>\n",
       "    </tr>\n",
       "  </tbody>\n",
       "</table>\n",
       "</div>"
      ],
      "text/plain": [
       "       Religion Type Marital Status     Value\n",
       "0            Atheism       Divorced   22100.0\n",
       "1            Atheism        Married  331100.0\n",
       "2            Atheism         Single  236500.0\n",
       "3            Atheism        Widowed   14800.0\n",
       "4           Buddhism       Divorced   42900.0\n",
       "5           Buddhism        Married  669800.0\n",
       "6           Buddhism         Single  310000.0\n",
       "7           Buddhism        Widowed   64600.0\n",
       "8           Catholic       Divorced    9300.0\n",
       "9           Catholic        Married  129300.0\n",
       "10          Catholic         Single   70600.0\n",
       "11          Catholic        Widowed   11700.0\n",
       "12      Christianity       Divorced   22800.0\n",
       "13      Christianity        Married  358700.0\n",
       "14      Christianity         Single  203600.0\n",
       "15      Christianity        Widowed   30900.0\n",
       "16          Hinduism       Divorced    5000.0\n",
       "17          Hinduism        Married  113600.0\n",
       "18          Hinduism         Single   36100.0\n",
       "19          Hinduism        Widowed    7900.0\n",
       "20             Islam       Divorced   21000.0\n",
       "21             Islam        Married  258200.0\n",
       "22             Islam         Single  155100.0\n",
       "23             Islam        Widowed   25600.0\n",
       "24  Other Christians       Divorced   13500.0\n",
       "25  Other Christians        Married  229400.0\n",
       "26  Other Christians         Single  133000.0\n",
       "27  Other Christians        Widowed   19200.0\n",
       "28   Other Religions       Divorced     200.0\n",
       "29   Other Religions        Married    4800.0\n",
       "30   Other Religions         Single    2400.0\n",
       "31   Other Religions        Widowed     400.0\n",
       "32           Sikhism       Divorced     500.0\n",
       "33           Sikhism        Married    6900.0\n",
       "34           Sikhism         Single    3200.0\n",
       "35           Sikhism        Widowed     900.0\n",
       "36            Taoism       Divorced    9000.0\n",
       "37            Taoism        Married  202700.0\n",
       "38            Taoism         Single   87600.0\n",
       "39            Taoism        Widowed   27000.0"
      ]
     },
     "execution_count": 103,
     "metadata": {},
     "output_type": "execute_result"
    }
   ],
   "source": [
    "df_new.groupby(['Religion Type', 'Marital Status'])['Value'].sum().reset_index() / df_"
   ]
  },
  {
   "cell_type": "code",
   "execution_count": 109,
   "id": "f93f9b4a",
   "metadata": {},
   "outputs": [],
   "source": [
    "df_grouped = df_new.groupby(['Religion Type', 'Marital Status'])['Value'].sum().reset_index()\n",
    "df_grouped['Percentage'] = df_grouped['Value'] / df_grouped['Value'].sum() * 100\n",
    "df_grouped['Percentage'] = df_grouped['Percentage'].round(2)\n"
   ]
  },
  {
   "cell_type": "code",
   "execution_count": 110,
   "id": "f08cdf54",
   "metadata": {},
   "outputs": [
    {
     "data": {
      "application/vnd.microsoft.datawrangler.viewer.v0+json": {
       "columns": [
        {
         "name": "index",
         "rawType": "int64",
         "type": "integer"
        },
        {
         "name": "Religion Type",
         "rawType": "object",
         "type": "string"
        },
        {
         "name": "Marital Status",
         "rawType": "object",
         "type": "string"
        },
        {
         "name": "Gender",
         "rawType": "object",
         "type": "string"
        },
        {
         "name": "Value",
         "rawType": "float64",
         "type": "float"
        }
       ],
       "ref": "68b8d5df-3054-438b-87be-72684937c360",
       "rows": [
        [
         "0",
         "Atheism",
         "Single",
         "Male",
         "128900.0"
        ],
        [
         "1",
         "Buddhism",
         "Single",
         "Male",
         "160600.0"
        ],
        [
         "2",
         "Taoism",
         "Single",
         "Male",
         "45400.0"
        ],
        [
         "3",
         "Islam",
         "Single",
         "Male",
         "84300.0"
        ],
        [
         "4",
         "Hinduism",
         "Single",
         "Male",
         "18800.0"
        ],
        [
         "5",
         "Sikhism",
         "Single",
         "Male",
         "1500.0"
        ],
        [
         "6",
         "Christianity",
         "Single",
         "Male",
         "92400.0"
        ],
        [
         "7",
         "Catholic",
         "Single",
         "Male",
         "33500.0"
        ],
        [
         "8",
         "Other Christians",
         "Single",
         "Male",
         "58900.0"
        ],
        [
         "9",
         "Other Religions",
         "Single",
         "Male",
         "1300.0"
        ],
        [
         "10",
         "Atheism",
         "Single",
         "Female",
         "107600.0"
        ],
        [
         "11",
         "Buddhism",
         "Single",
         "Female",
         "149400.0"
        ],
        [
         "12",
         "Taoism",
         "Single",
         "Female",
         "42200.0"
        ],
        [
         "13",
         "Islam",
         "Single",
         "Female",
         "70800.0"
        ],
        [
         "14",
         "Hinduism",
         "Single",
         "Female",
         "17300.0"
        ],
        [
         "15",
         "Sikhism",
         "Single",
         "Female",
         "1700.0"
        ],
        [
         "16",
         "Christianity",
         "Single",
         "Female",
         "111200.0"
        ],
        [
         "17",
         "Catholic",
         "Single",
         "Female",
         "37100.0"
        ],
        [
         "18",
         "Other Christians",
         "Single",
         "Female",
         "74100.0"
        ],
        [
         "19",
         "Other Religions",
         "Single",
         "Female",
         "1100.0"
        ],
        [
         "20",
         "Atheism",
         "Married",
         "Male",
         "175400.0"
        ],
        [
         "21",
         "Buddhism",
         "Married",
         "Male",
         "336600.0"
        ],
        [
         "22",
         "Taoism",
         "Married",
         "Male",
         "107300.0"
        ],
        [
         "23",
         "Islam",
         "Married",
         "Male",
         "129900.0"
        ],
        [
         "24",
         "Hinduism",
         "Married",
         "Male",
         "60200.0"
        ],
        [
         "25",
         "Sikhism",
         "Married",
         "Male",
         "3500.0"
        ],
        [
         "26",
         "Christianity",
         "Married",
         "Male",
         "169300.0"
        ],
        [
         "27",
         "Catholic",
         "Married",
         "Male",
         "60000.0"
        ],
        [
         "28",
         "Other Christians",
         "Married",
         "Male",
         "109300.0"
        ],
        [
         "29",
         "Other Religions",
         "Married",
         "Male",
         "2600.0"
        ],
        [
         "30",
         "Atheism",
         "Married",
         "Female",
         "155700.0"
        ],
        [
         "31",
         "Buddhism",
         "Married",
         "Female",
         "333200.0"
        ],
        [
         "32",
         "Taoism",
         "Married",
         "Female",
         "95400.0"
        ],
        [
         "33",
         "Islam",
         "Married",
         "Female",
         "128300.00000000001"
        ],
        [
         "34",
         "Hinduism",
         "Married",
         "Female",
         "53400.0"
        ],
        [
         "35",
         "Sikhism",
         "Married",
         "Female",
         "3400.0"
        ],
        [
         "36",
         "Christianity",
         "Married",
         "Female",
         "189400.0"
        ],
        [
         "37",
         "Catholic",
         "Married",
         "Female",
         "69300.0"
        ],
        [
         "38",
         "Other Christians",
         "Married",
         "Female",
         "120100.0"
        ],
        [
         "39",
         "Other Religions",
         "Married",
         "Female",
         "2200.0"
        ],
        [
         "40",
         "Atheism",
         "Widowed",
         "Male",
         "4200.0"
        ],
        [
         "41",
         "Buddhism",
         "Widowed",
         "Male",
         "10300.0"
        ],
        [
         "42",
         "Taoism",
         "Widowed",
         "Male",
         "4200.0"
        ],
        [
         "43",
         "Islam",
         "Widowed",
         "Male",
         "5200.0"
        ],
        [
         "44",
         "Hinduism",
         "Widowed",
         "Male",
         "900.0"
        ],
        [
         "45",
         "Sikhism",
         "Widowed",
         "Male",
         null
        ],
        [
         "46",
         "Christianity",
         "Widowed",
         "Male",
         "4100.0"
        ],
        [
         "47",
         "Catholic",
         "Widowed",
         "Male",
         "1500.0"
        ],
        [
         "48",
         "Other Christians",
         "Widowed",
         "Male",
         "2600.0"
        ],
        [
         "49",
         "Other Religions",
         "Widowed",
         "Male",
         null
        ]
       ],
       "shape": {
        "columns": 4,
        "rows": 80
       }
      },
      "text/html": [
       "<div>\n",
       "<style scoped>\n",
       "    .dataframe tbody tr th:only-of-type {\n",
       "        vertical-align: middle;\n",
       "    }\n",
       "\n",
       "    .dataframe tbody tr th {\n",
       "        vertical-align: top;\n",
       "    }\n",
       "\n",
       "    .dataframe thead th {\n",
       "        text-align: right;\n",
       "    }\n",
       "</style>\n",
       "<table border=\"1\" class=\"dataframe\">\n",
       "  <thead>\n",
       "    <tr style=\"text-align: right;\">\n",
       "      <th></th>\n",
       "      <th>Religion Type</th>\n",
       "      <th>Marital Status</th>\n",
       "      <th>Gender</th>\n",
       "      <th>Value</th>\n",
       "    </tr>\n",
       "  </thead>\n",
       "  <tbody>\n",
       "    <tr>\n",
       "      <th>0</th>\n",
       "      <td>Atheism</td>\n",
       "      <td>Single</td>\n",
       "      <td>Male</td>\n",
       "      <td>128900.0</td>\n",
       "    </tr>\n",
       "    <tr>\n",
       "      <th>1</th>\n",
       "      <td>Buddhism</td>\n",
       "      <td>Single</td>\n",
       "      <td>Male</td>\n",
       "      <td>160600.0</td>\n",
       "    </tr>\n",
       "    <tr>\n",
       "      <th>2</th>\n",
       "      <td>Taoism</td>\n",
       "      <td>Single</td>\n",
       "      <td>Male</td>\n",
       "      <td>45400.0</td>\n",
       "    </tr>\n",
       "    <tr>\n",
       "      <th>3</th>\n",
       "      <td>Islam</td>\n",
       "      <td>Single</td>\n",
       "      <td>Male</td>\n",
       "      <td>84300.0</td>\n",
       "    </tr>\n",
       "    <tr>\n",
       "      <th>4</th>\n",
       "      <td>Hinduism</td>\n",
       "      <td>Single</td>\n",
       "      <td>Male</td>\n",
       "      <td>18800.0</td>\n",
       "    </tr>\n",
       "    <tr>\n",
       "      <th>...</th>\n",
       "      <td>...</td>\n",
       "      <td>...</td>\n",
       "      <td>...</td>\n",
       "      <td>...</td>\n",
       "    </tr>\n",
       "    <tr>\n",
       "      <th>75</th>\n",
       "      <td>Sikhism</td>\n",
       "      <td>Divorced</td>\n",
       "      <td>Female</td>\n",
       "      <td>300.0</td>\n",
       "    </tr>\n",
       "    <tr>\n",
       "      <th>76</th>\n",
       "      <td>Christianity</td>\n",
       "      <td>Divorced</td>\n",
       "      <td>Female</td>\n",
       "      <td>15900.0</td>\n",
       "    </tr>\n",
       "    <tr>\n",
       "      <th>77</th>\n",
       "      <td>Catholic</td>\n",
       "      <td>Divorced</td>\n",
       "      <td>Female</td>\n",
       "      <td>6200.0</td>\n",
       "    </tr>\n",
       "    <tr>\n",
       "      <th>78</th>\n",
       "      <td>Other Christians</td>\n",
       "      <td>Divorced</td>\n",
       "      <td>Female</td>\n",
       "      <td>9700.0</td>\n",
       "    </tr>\n",
       "    <tr>\n",
       "      <th>79</th>\n",
       "      <td>Other Religions</td>\n",
       "      <td>Divorced</td>\n",
       "      <td>Female</td>\n",
       "      <td>200.0</td>\n",
       "    </tr>\n",
       "  </tbody>\n",
       "</table>\n",
       "<p>80 rows × 4 columns</p>\n",
       "</div>"
      ],
      "text/plain": [
       "       Religion Type Marital Status  Gender     Value\n",
       "0            Atheism         Single    Male  128900.0\n",
       "1           Buddhism         Single    Male  160600.0\n",
       "2             Taoism         Single    Male   45400.0\n",
       "3              Islam         Single    Male   84300.0\n",
       "4           Hinduism         Single    Male   18800.0\n",
       "..               ...            ...     ...       ...\n",
       "75           Sikhism       Divorced  Female     300.0\n",
       "76      Christianity       Divorced  Female   15900.0\n",
       "77          Catholic       Divorced  Female    6200.0\n",
       "78  Other Christians       Divorced  Female    9700.0\n",
       "79   Other Religions       Divorced  Female     200.0\n",
       "\n",
       "[80 rows x 4 columns]"
      ]
     },
     "execution_count": 110,
     "metadata": {},
     "output_type": "execute_result"
    }
   ],
   "source": [
    "df_new"
   ]
  },
  {
   "cell_type": "code",
   "execution_count": 107,
   "id": "ca8e2bfc",
   "metadata": {},
   "outputs": [
    {
     "data": {
      "application/vnd.microsoft.datawrangler.viewer.v0+json": {
       "columns": [
        {
         "name": "index",
         "rawType": "int64",
         "type": "integer"
        },
        {
         "name": "Religion Type",
         "rawType": "object",
         "type": "string"
        },
        {
         "name": "Marital Status",
         "rawType": "object",
         "type": "string"
        },
        {
         "name": "Value",
         "rawType": "float64",
         "type": "float"
        },
        {
         "name": "Percentage",
         "rawType": "float64",
         "type": "float"
        }
       ],
       "ref": "73c72b86-4e3c-4a7b-a3d3-fbb5d1799119",
       "rows": [
        [
         "0",
         "Atheism",
         "Divorced",
         "22100.0",
         "0.57"
        ],
        [
         "1",
         "Atheism",
         "Married",
         "331100.0",
         "8.51"
        ],
        [
         "2",
         "Atheism",
         "Single",
         "236500.0",
         "6.08"
        ],
        [
         "3",
         "Atheism",
         "Widowed",
         "14800.0",
         "0.38"
        ],
        [
         "4",
         "Buddhism",
         "Divorced",
         "42900.0",
         "1.1"
        ],
        [
         "5",
         "Buddhism",
         "Married",
         "669800.0",
         "17.21"
        ],
        [
         "6",
         "Buddhism",
         "Single",
         "310000.0",
         "7.97"
        ],
        [
         "7",
         "Buddhism",
         "Widowed",
         "64600.0",
         "1.66"
        ],
        [
         "8",
         "Catholic",
         "Divorced",
         "9300.0",
         "0.24"
        ],
        [
         "9",
         "Catholic",
         "Married",
         "129300.0",
         "3.32"
        ],
        [
         "10",
         "Catholic",
         "Single",
         "70600.0",
         "1.81"
        ],
        [
         "11",
         "Catholic",
         "Widowed",
         "11700.0",
         "0.3"
        ],
        [
         "12",
         "Christianity",
         "Divorced",
         "22800.0",
         "0.59"
        ],
        [
         "13",
         "Christianity",
         "Married",
         "358700.0",
         "9.22"
        ],
        [
         "14",
         "Christianity",
         "Single",
         "203600.0",
         "5.23"
        ],
        [
         "15",
         "Christianity",
         "Widowed",
         "30900.0",
         "0.79"
        ],
        [
         "16",
         "Hinduism",
         "Divorced",
         "5000.0",
         "0.13"
        ],
        [
         "17",
         "Hinduism",
         "Married",
         "113600.0",
         "2.92"
        ],
        [
         "18",
         "Hinduism",
         "Single",
         "36100.0",
         "0.93"
        ],
        [
         "19",
         "Hinduism",
         "Widowed",
         "7900.0",
         "0.2"
        ],
        [
         "20",
         "Islam",
         "Divorced",
         "21000.0",
         "0.54"
        ],
        [
         "21",
         "Islam",
         "Married",
         "258200.0",
         "6.63"
        ],
        [
         "22",
         "Islam",
         "Single",
         "155100.0",
         "3.99"
        ],
        [
         "23",
         "Islam",
         "Widowed",
         "25600.0",
         "0.66"
        ],
        [
         "24",
         "Other Christians",
         "Divorced",
         "13500.0",
         "0.35"
        ],
        [
         "25",
         "Other Christians",
         "Married",
         "229400.0",
         "5.89"
        ],
        [
         "26",
         "Other Christians",
         "Single",
         "133000.0",
         "3.42"
        ],
        [
         "27",
         "Other Christians",
         "Widowed",
         "19200.0",
         "0.49"
        ],
        [
         "28",
         "Other Religions",
         "Divorced",
         "200.0",
         "0.01"
        ],
        [
         "29",
         "Other Religions",
         "Married",
         "4800.0",
         "0.12"
        ],
        [
         "30",
         "Other Religions",
         "Single",
         "2400.0",
         "0.06"
        ],
        [
         "31",
         "Other Religions",
         "Widowed",
         "400.0",
         "0.01"
        ],
        [
         "32",
         "Sikhism",
         "Divorced",
         "500.0",
         "0.01"
        ],
        [
         "33",
         "Sikhism",
         "Married",
         "6900.0",
         "0.18"
        ],
        [
         "34",
         "Sikhism",
         "Single",
         "3200.0",
         "0.08"
        ],
        [
         "35",
         "Sikhism",
         "Widowed",
         "900.0",
         "0.02"
        ],
        [
         "36",
         "Taoism",
         "Divorced",
         "9000.0",
         "0.23"
        ],
        [
         "37",
         "Taoism",
         "Married",
         "202700.0",
         "5.21"
        ],
        [
         "38",
         "Taoism",
         "Single",
         "87600.0",
         "2.25"
        ],
        [
         "39",
         "Taoism",
         "Widowed",
         "27000.0",
         "0.69"
        ]
       ],
       "shape": {
        "columns": 4,
        "rows": 40
       }
      },
      "text/html": [
       "<div>\n",
       "<style scoped>\n",
       "    .dataframe tbody tr th:only-of-type {\n",
       "        vertical-align: middle;\n",
       "    }\n",
       "\n",
       "    .dataframe tbody tr th {\n",
       "        vertical-align: top;\n",
       "    }\n",
       "\n",
       "    .dataframe thead th {\n",
       "        text-align: right;\n",
       "    }\n",
       "</style>\n",
       "<table border=\"1\" class=\"dataframe\">\n",
       "  <thead>\n",
       "    <tr style=\"text-align: right;\">\n",
       "      <th></th>\n",
       "      <th>Religion Type</th>\n",
       "      <th>Marital Status</th>\n",
       "      <th>Value</th>\n",
       "      <th>Percentage</th>\n",
       "    </tr>\n",
       "  </thead>\n",
       "  <tbody>\n",
       "    <tr>\n",
       "      <th>0</th>\n",
       "      <td>Atheism</td>\n",
       "      <td>Divorced</td>\n",
       "      <td>22100.0</td>\n",
       "      <td>0.57</td>\n",
       "    </tr>\n",
       "    <tr>\n",
       "      <th>1</th>\n",
       "      <td>Atheism</td>\n",
       "      <td>Married</td>\n",
       "      <td>331100.0</td>\n",
       "      <td>8.51</td>\n",
       "    </tr>\n",
       "    <tr>\n",
       "      <th>2</th>\n",
       "      <td>Atheism</td>\n",
       "      <td>Single</td>\n",
       "      <td>236500.0</td>\n",
       "      <td>6.08</td>\n",
       "    </tr>\n",
       "    <tr>\n",
       "      <th>3</th>\n",
       "      <td>Atheism</td>\n",
       "      <td>Widowed</td>\n",
       "      <td>14800.0</td>\n",
       "      <td>0.38</td>\n",
       "    </tr>\n",
       "    <tr>\n",
       "      <th>4</th>\n",
       "      <td>Buddhism</td>\n",
       "      <td>Divorced</td>\n",
       "      <td>42900.0</td>\n",
       "      <td>1.10</td>\n",
       "    </tr>\n",
       "    <tr>\n",
       "      <th>5</th>\n",
       "      <td>Buddhism</td>\n",
       "      <td>Married</td>\n",
       "      <td>669800.0</td>\n",
       "      <td>17.21</td>\n",
       "    </tr>\n",
       "    <tr>\n",
       "      <th>6</th>\n",
       "      <td>Buddhism</td>\n",
       "      <td>Single</td>\n",
       "      <td>310000.0</td>\n",
       "      <td>7.97</td>\n",
       "    </tr>\n",
       "    <tr>\n",
       "      <th>7</th>\n",
       "      <td>Buddhism</td>\n",
       "      <td>Widowed</td>\n",
       "      <td>64600.0</td>\n",
       "      <td>1.66</td>\n",
       "    </tr>\n",
       "    <tr>\n",
       "      <th>8</th>\n",
       "      <td>Catholic</td>\n",
       "      <td>Divorced</td>\n",
       "      <td>9300.0</td>\n",
       "      <td>0.24</td>\n",
       "    </tr>\n",
       "    <tr>\n",
       "      <th>9</th>\n",
       "      <td>Catholic</td>\n",
       "      <td>Married</td>\n",
       "      <td>129300.0</td>\n",
       "      <td>3.32</td>\n",
       "    </tr>\n",
       "    <tr>\n",
       "      <th>10</th>\n",
       "      <td>Catholic</td>\n",
       "      <td>Single</td>\n",
       "      <td>70600.0</td>\n",
       "      <td>1.81</td>\n",
       "    </tr>\n",
       "    <tr>\n",
       "      <th>11</th>\n",
       "      <td>Catholic</td>\n",
       "      <td>Widowed</td>\n",
       "      <td>11700.0</td>\n",
       "      <td>0.30</td>\n",
       "    </tr>\n",
       "    <tr>\n",
       "      <th>12</th>\n",
       "      <td>Christianity</td>\n",
       "      <td>Divorced</td>\n",
       "      <td>22800.0</td>\n",
       "      <td>0.59</td>\n",
       "    </tr>\n",
       "    <tr>\n",
       "      <th>13</th>\n",
       "      <td>Christianity</td>\n",
       "      <td>Married</td>\n",
       "      <td>358700.0</td>\n",
       "      <td>9.22</td>\n",
       "    </tr>\n",
       "    <tr>\n",
       "      <th>14</th>\n",
       "      <td>Christianity</td>\n",
       "      <td>Single</td>\n",
       "      <td>203600.0</td>\n",
       "      <td>5.23</td>\n",
       "    </tr>\n",
       "    <tr>\n",
       "      <th>15</th>\n",
       "      <td>Christianity</td>\n",
       "      <td>Widowed</td>\n",
       "      <td>30900.0</td>\n",
       "      <td>0.79</td>\n",
       "    </tr>\n",
       "    <tr>\n",
       "      <th>16</th>\n",
       "      <td>Hinduism</td>\n",
       "      <td>Divorced</td>\n",
       "      <td>5000.0</td>\n",
       "      <td>0.13</td>\n",
       "    </tr>\n",
       "    <tr>\n",
       "      <th>17</th>\n",
       "      <td>Hinduism</td>\n",
       "      <td>Married</td>\n",
       "      <td>113600.0</td>\n",
       "      <td>2.92</td>\n",
       "    </tr>\n",
       "    <tr>\n",
       "      <th>18</th>\n",
       "      <td>Hinduism</td>\n",
       "      <td>Single</td>\n",
       "      <td>36100.0</td>\n",
       "      <td>0.93</td>\n",
       "    </tr>\n",
       "    <tr>\n",
       "      <th>19</th>\n",
       "      <td>Hinduism</td>\n",
       "      <td>Widowed</td>\n",
       "      <td>7900.0</td>\n",
       "      <td>0.20</td>\n",
       "    </tr>\n",
       "    <tr>\n",
       "      <th>20</th>\n",
       "      <td>Islam</td>\n",
       "      <td>Divorced</td>\n",
       "      <td>21000.0</td>\n",
       "      <td>0.54</td>\n",
       "    </tr>\n",
       "    <tr>\n",
       "      <th>21</th>\n",
       "      <td>Islam</td>\n",
       "      <td>Married</td>\n",
       "      <td>258200.0</td>\n",
       "      <td>6.63</td>\n",
       "    </tr>\n",
       "    <tr>\n",
       "      <th>22</th>\n",
       "      <td>Islam</td>\n",
       "      <td>Single</td>\n",
       "      <td>155100.0</td>\n",
       "      <td>3.99</td>\n",
       "    </tr>\n",
       "    <tr>\n",
       "      <th>23</th>\n",
       "      <td>Islam</td>\n",
       "      <td>Widowed</td>\n",
       "      <td>25600.0</td>\n",
       "      <td>0.66</td>\n",
       "    </tr>\n",
       "    <tr>\n",
       "      <th>24</th>\n",
       "      <td>Other Christians</td>\n",
       "      <td>Divorced</td>\n",
       "      <td>13500.0</td>\n",
       "      <td>0.35</td>\n",
       "    </tr>\n",
       "    <tr>\n",
       "      <th>25</th>\n",
       "      <td>Other Christians</td>\n",
       "      <td>Married</td>\n",
       "      <td>229400.0</td>\n",
       "      <td>5.89</td>\n",
       "    </tr>\n",
       "    <tr>\n",
       "      <th>26</th>\n",
       "      <td>Other Christians</td>\n",
       "      <td>Single</td>\n",
       "      <td>133000.0</td>\n",
       "      <td>3.42</td>\n",
       "    </tr>\n",
       "    <tr>\n",
       "      <th>27</th>\n",
       "      <td>Other Christians</td>\n",
       "      <td>Widowed</td>\n",
       "      <td>19200.0</td>\n",
       "      <td>0.49</td>\n",
       "    </tr>\n",
       "    <tr>\n",
       "      <th>28</th>\n",
       "      <td>Other Religions</td>\n",
       "      <td>Divorced</td>\n",
       "      <td>200.0</td>\n",
       "      <td>0.01</td>\n",
       "    </tr>\n",
       "    <tr>\n",
       "      <th>29</th>\n",
       "      <td>Other Religions</td>\n",
       "      <td>Married</td>\n",
       "      <td>4800.0</td>\n",
       "      <td>0.12</td>\n",
       "    </tr>\n",
       "    <tr>\n",
       "      <th>30</th>\n",
       "      <td>Other Religions</td>\n",
       "      <td>Single</td>\n",
       "      <td>2400.0</td>\n",
       "      <td>0.06</td>\n",
       "    </tr>\n",
       "    <tr>\n",
       "      <th>31</th>\n",
       "      <td>Other Religions</td>\n",
       "      <td>Widowed</td>\n",
       "      <td>400.0</td>\n",
       "      <td>0.01</td>\n",
       "    </tr>\n",
       "    <tr>\n",
       "      <th>32</th>\n",
       "      <td>Sikhism</td>\n",
       "      <td>Divorced</td>\n",
       "      <td>500.0</td>\n",
       "      <td>0.01</td>\n",
       "    </tr>\n",
       "    <tr>\n",
       "      <th>33</th>\n",
       "      <td>Sikhism</td>\n",
       "      <td>Married</td>\n",
       "      <td>6900.0</td>\n",
       "      <td>0.18</td>\n",
       "    </tr>\n",
       "    <tr>\n",
       "      <th>34</th>\n",
       "      <td>Sikhism</td>\n",
       "      <td>Single</td>\n",
       "      <td>3200.0</td>\n",
       "      <td>0.08</td>\n",
       "    </tr>\n",
       "    <tr>\n",
       "      <th>35</th>\n",
       "      <td>Sikhism</td>\n",
       "      <td>Widowed</td>\n",
       "      <td>900.0</td>\n",
       "      <td>0.02</td>\n",
       "    </tr>\n",
       "    <tr>\n",
       "      <th>36</th>\n",
       "      <td>Taoism</td>\n",
       "      <td>Divorced</td>\n",
       "      <td>9000.0</td>\n",
       "      <td>0.23</td>\n",
       "    </tr>\n",
       "    <tr>\n",
       "      <th>37</th>\n",
       "      <td>Taoism</td>\n",
       "      <td>Married</td>\n",
       "      <td>202700.0</td>\n",
       "      <td>5.21</td>\n",
       "    </tr>\n",
       "    <tr>\n",
       "      <th>38</th>\n",
       "      <td>Taoism</td>\n",
       "      <td>Single</td>\n",
       "      <td>87600.0</td>\n",
       "      <td>2.25</td>\n",
       "    </tr>\n",
       "    <tr>\n",
       "      <th>39</th>\n",
       "      <td>Taoism</td>\n",
       "      <td>Widowed</td>\n",
       "      <td>27000.0</td>\n",
       "      <td>0.69</td>\n",
       "    </tr>\n",
       "  </tbody>\n",
       "</table>\n",
       "</div>"
      ],
      "text/plain": [
       "       Religion Type Marital Status     Value  Percentage\n",
       "0            Atheism       Divorced   22100.0        0.57\n",
       "1            Atheism        Married  331100.0        8.51\n",
       "2            Atheism         Single  236500.0        6.08\n",
       "3            Atheism        Widowed   14800.0        0.38\n",
       "4           Buddhism       Divorced   42900.0        1.10\n",
       "5           Buddhism        Married  669800.0       17.21\n",
       "6           Buddhism         Single  310000.0        7.97\n",
       "7           Buddhism        Widowed   64600.0        1.66\n",
       "8           Catholic       Divorced    9300.0        0.24\n",
       "9           Catholic        Married  129300.0        3.32\n",
       "10          Catholic         Single   70600.0        1.81\n",
       "11          Catholic        Widowed   11700.0        0.30\n",
       "12      Christianity       Divorced   22800.0        0.59\n",
       "13      Christianity        Married  358700.0        9.22\n",
       "14      Christianity         Single  203600.0        5.23\n",
       "15      Christianity        Widowed   30900.0        0.79\n",
       "16          Hinduism       Divorced    5000.0        0.13\n",
       "17          Hinduism        Married  113600.0        2.92\n",
       "18          Hinduism         Single   36100.0        0.93\n",
       "19          Hinduism        Widowed    7900.0        0.20\n",
       "20             Islam       Divorced   21000.0        0.54\n",
       "21             Islam        Married  258200.0        6.63\n",
       "22             Islam         Single  155100.0        3.99\n",
       "23             Islam        Widowed   25600.0        0.66\n",
       "24  Other Christians       Divorced   13500.0        0.35\n",
       "25  Other Christians        Married  229400.0        5.89\n",
       "26  Other Christians         Single  133000.0        3.42\n",
       "27  Other Christians        Widowed   19200.0        0.49\n",
       "28   Other Religions       Divorced     200.0        0.01\n",
       "29   Other Religions        Married    4800.0        0.12\n",
       "30   Other Religions         Single    2400.0        0.06\n",
       "31   Other Religions        Widowed     400.0        0.01\n",
       "32           Sikhism       Divorced     500.0        0.01\n",
       "33           Sikhism        Married    6900.0        0.18\n",
       "34           Sikhism         Single    3200.0        0.08\n",
       "35           Sikhism        Widowed     900.0        0.02\n",
       "36            Taoism       Divorced    9000.0        0.23\n",
       "37            Taoism        Married  202700.0        5.21\n",
       "38            Taoism         Single   87600.0        2.25\n",
       "39            Taoism        Widowed   27000.0        0.69"
      ]
     },
     "execution_count": 107,
     "metadata": {},
     "output_type": "execute_result"
    }
   ],
   "source": [
    "df_grouped"
   ]
  },
  {
   "cell_type": "code",
   "execution_count": 111,
   "id": "07f2dffd",
   "metadata": {},
   "outputs": [],
   "source": [
    "# save sheet 1 and sheet 2 into a single excel file\n",
    "with pd.ExcelWriter('tidy_religion_marital_status.xlsx') as writer:\n",
    "    df_new.to_excel(writer, sheet_name='Tidy Data', index=False)\n",
    "    df_grouped.to_excel(writer, sheet_name='Summary', index=False)"
   ]
  },
  {
   "cell_type": "code",
   "execution_count": 119,
   "id": "ce0a41b9",
   "metadata": {},
   "outputs": [
    {
     "name": "stdout",
     "output_type": "stream",
     "text": [
      "Chi2: 48580.398494398\n",
      "p-value: 0.0\n",
      "Degrees of freedom: 27\n",
      "Expected counts:\n",
      " [[2.27236954e+04 3.57940916e+05 1.92304902e+05 3.15304864e+04]\n",
      " [4.08725789e+04 6.43819947e+05 3.45894327e+05 5.67131478e+04]\n",
      " [8.30382846e+03 1.30800907e+05 7.02732059e+04 1.15220586e+04]\n",
      " [2.31559906e+04 3.64750379e+05 1.95963308e+05 3.21303220e+04]\n",
      " [6.11227935e+03 9.62798890e+04 5.17266785e+04 8.48115316e+03]\n",
      " [1.72880521e+04 2.72319317e+05 1.46304425e+05 2.39882063e+04]\n",
      " [1.48521622e+04 2.33949472e+05 1.25690103e+05 2.06082633e+04]\n",
      " [2.93208972e+02 4.61859246e+03 2.48135358e+03 4.06844986e+02]\n",
      " [4.32295280e+02 6.80946324e+03 3.65840592e+03 5.99835556e+02]\n",
      " [1.22659087e+04 1.93211118e+05 1.03803291e+05 1.70196819e+04]]\n"
     ]
    }
   ],
   "source": [
    "from scipy.stats import chi2_contingency\n",
    "\n",
    "# Pivot to create contingency table\n",
    "ct = df_grouped.pivot(index='Religion Type', columns='Marital Status', values='Value')\n",
    "\n",
    "# Run chi-square test\n",
    "chi2, p, dof, expected = chi2_contingency(ct)\n",
    "\n",
    "print(\"Chi2:\", chi2)\n",
    "print(\"p-value:\", p)\n",
    "print(\"Degrees of freedom:\", dof)\n",
    "print(\"Expected counts:\\n\", expected)\n",
    "\n"
   ]
  },
  {
   "cell_type": "markdown",
   "id": "dd3c921d",
   "metadata": {},
   "source": [
    "# Chi-Square Test Report: Religion Type vs Marital Status\n",
    "\n",
    "## Objective:\n",
    "To test whether Religion Type and Marital Status are independent or if there is an association between them.\n",
    "\n",
    "### Method:\n",
    "A chi-square test of independence was performed on a contingency table of religion type and marital status counts. The observed counts were compared to the expected counts under the assumption of independence.\n",
    "\n",
    "### Results:\n",
    "\n",
    "> Chi-square statistic (χ²): 48580.398\n",
    "\n",
    "> Degrees of freedom (dof): 27\n",
    "\n",
    "> P-value: 0.0\n",
    "\n",
    "> Expected counts: See output table from expected array.\n",
    "\n",
    "### Interpretation:\n",
    "\n",
    "- The chi-square statistic is extremely large, which indicates that the observed counts differ greatly from the counts we would expect if religion and marital status were independent.\n",
    "\n",
    "- The p-value is effectively 0, far below the common significance threshold of 0.05. This means we reject the null hypothesis of independence.\n",
    "\n",
    "- Conclusion: There is strong statistical evidence that marital status is associated with religion type. In other words, the distribution of marital statuses (e.g., married, divorced, single) varies significantly across different religions.\n",
    "\n",
    "- While the chi-square test confirms that an association exists, it does not indicate which religions or marital statuses contribute most to this association."
   ]
  }
 ],
 "metadata": {
  "kernelspec": {
   "display_name": "anaconda-2025.06-py3.11",
   "language": "python",
   "name": "python3"
  },
  "language_info": {
   "codemirror_mode": {
    "name": "ipython",
    "version": 3
   },
   "file_extension": ".py",
   "mimetype": "text/x-python",
   "name": "python",
   "nbconvert_exporter": "python",
   "pygments_lexer": "ipython3",
   "version": "3.11.13"
  }
 },
 "nbformat": 4,
 "nbformat_minor": 5
}
