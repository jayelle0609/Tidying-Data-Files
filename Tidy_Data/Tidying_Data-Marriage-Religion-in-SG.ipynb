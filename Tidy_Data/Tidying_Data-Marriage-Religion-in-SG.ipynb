{
 "cells": [
  {
   "cell_type": "code",
   "execution_count": 70,
   "id": "af0ad683",
   "metadata": {},
   "outputs": [],
   "source": [
    "import pandas as pd\n",
    "import numpy as np\n",
    "\n",
    "df = pd.read_csv(\"/Users/jialing/Downloads/ResidentPopulationAged15YearsandOverbyReligionMaritalStatusandSexGeneralHouseholdSurvey2015 (2).csv\")"
   ]
  },
  {
   "cell_type": "code",
   "execution_count": 71,
   "id": "d2122f45",
   "metadata": {},
   "outputs": [
    {
     "data": {
      "text/plain": [
       "['Thousands',\n",
       " 'Total_Total',\n",
       " 'Total_Males',\n",
       " 'Total_Females',\n",
       " 'Single_Total',\n",
       " 'Single_Males',\n",
       " 'Single_Females',\n",
       " 'Married_Total',\n",
       " 'Married_Males',\n",
       " 'Married_Females',\n",
       " 'Widowed_Total',\n",
       " 'Widowed_Males',\n",
       " 'Widowed_Females',\n",
       " 'Divorced_Separated_Total',\n",
       " 'Divorced_Separated_Males',\n",
       " 'Divorced_Separated_Females']"
      ]
     },
     "execution_count": 71,
     "metadata": {},
     "output_type": "execute_result"
    }
   ],
   "source": [
    "df.columns.tolist()"
   ]
  },
  {
   "cell_type": "code",
   "execution_count": 72,
   "id": "900b3397",
   "metadata": {},
   "outputs": [],
   "source": [
    "df.rename(columns={'Thousands': 'Religion Type'}, inplace=True)"
   ]
  },
  {
   "cell_type": "code",
   "execution_count": 73,
   "id": "b9ed45f0",
   "metadata": {},
   "outputs": [],
   "source": [
    "df = df.drop(df.columns[[1, 2, 3,4, 7,10,13]], axis=1)"
   ]
  },
  {
   "cell_type": "code",
   "execution_count": 74,
   "id": "de065196",
   "metadata": {},
   "outputs": [
    {
     "data": {
      "text/plain": [
       "['Religion Type',\n",
       " 'Single_Males',\n",
       " 'Single_Females',\n",
       " 'Married_Males',\n",
       " 'Married_Females',\n",
       " 'Widowed_Males',\n",
       " 'Widowed_Females',\n",
       " 'Divorced_Separated_Males',\n",
       " 'Divorced_Separated_Females']"
      ]
     },
     "execution_count": 74,
     "metadata": {},
     "output_type": "execute_result"
    }
   ],
   "source": [
    "df.columns.tolist()"
   ]
  },
  {
   "cell_type": "code",
   "execution_count": 75,
   "id": "c6412b19",
   "metadata": {},
   "outputs": [
    {
     "data": {
      "application/vnd.microsoft.datawrangler.viewer.v0+json": {
       "columns": [
        {
         "name": "index",
         "rawType": "int64",
         "type": "integer"
        },
        {
         "name": "Religion Type",
         "rawType": "object",
         "type": "string"
        },
        {
         "name": "Single_Males",
         "rawType": "float64",
         "type": "float"
        },
        {
         "name": "Single_Females",
         "rawType": "float64",
         "type": "float"
        },
        {
         "name": "Married_Males",
         "rawType": "float64",
         "type": "float"
        },
        {
         "name": "Married_Females",
         "rawType": "float64",
         "type": "float"
        },
        {
         "name": "Widowed_Males",
         "rawType": "object",
         "type": "string"
        },
        {
         "name": "Widowed_Females",
         "rawType": "float64",
         "type": "float"
        },
        {
         "name": "Divorced_Separated_Males",
         "rawType": "object",
         "type": "string"
        },
        {
         "name": "Divorced_Separated_Females",
         "rawType": "float64",
         "type": "float"
        }
       ],
       "ref": "78fe6200-c354-4746-956e-9a204cefd45b",
       "rows": [
        [
         "0",
         "Total",
         "533.2",
         "501.3",
         "984.7",
         "960.9",
         "28.9",
         "143.2",
         "42.7",
         "80.9"
        ],
        [
         "1",
         "No Religion",
         "128.9",
         "107.6",
         "175.4",
         "155.7",
         "4.2",
         "10.6",
         "8.7",
         "13.4"
        ],
        [
         "2",
         "With Religion",
         "404.3",
         "393.8",
         "809.4",
         "805.2",
         "24.8",
         "132.6",
         "34",
         "67.5"
        ],
        [
         "3",
         "Buddhism",
         "160.6",
         "149.4",
         "336.6",
         "333.2",
         "10.3",
         "54.3",
         "14.9",
         "28.0"
        ],
        [
         "4",
         "Taoism1/",
         "45.4",
         "42.2",
         "107.3",
         "95.4",
         "4.2",
         "22.8",
         "3.8",
         "5.2"
        ],
        [
         "5",
         "Islam",
         "84.3",
         "70.8",
         "129.9",
         "128.3",
         "5.2",
         "20.4",
         "6.6",
         "14.4"
        ],
        [
         "6",
         "Hinduism",
         "18.8",
         "17.3",
         "60.2",
         "53.4",
         "0.9",
         "7.0",
         "1.5",
         "3.5"
        ],
        [
         "7",
         "Sikhism",
         "1.5",
         "1.7",
         "3.5",
         "3.4",
         "na",
         "0.9",
         "0.2",
         "0.3"
        ],
        [
         "8",
         "Christianity",
         "92.4",
         "111.2",
         "169.3",
         "189.4",
         "4.1",
         "26.8",
         "6.9",
         "15.9"
        ],
        [
         "9",
         "Catholic",
         "33.5",
         "37.1",
         "60.0",
         "69.3",
         "1.5",
         "10.2",
         "3.1",
         "6.2"
        ],
        [
         "10",
         "Other Christians",
         "58.9",
         "74.1",
         "109.3",
         "120.1",
         "2.6",
         "16.6",
         "3.8",
         "9.7"
        ],
        [
         "11",
         "Other Religions",
         "1.3",
         "1.1",
         "2.6",
         "2.2",
         "na",
         "0.4",
         "na",
         "0.2"
        ]
       ],
       "shape": {
        "columns": 9,
        "rows": 12
       }
      },
      "text/html": [
       "<div>\n",
       "<style scoped>\n",
       "    .dataframe tbody tr th:only-of-type {\n",
       "        vertical-align: middle;\n",
       "    }\n",
       "\n",
       "    .dataframe tbody tr th {\n",
       "        vertical-align: top;\n",
       "    }\n",
       "\n",
       "    .dataframe thead th {\n",
       "        text-align: right;\n",
       "    }\n",
       "</style>\n",
       "<table border=\"1\" class=\"dataframe\">\n",
       "  <thead>\n",
       "    <tr style=\"text-align: right;\">\n",
       "      <th></th>\n",
       "      <th>Religion Type</th>\n",
       "      <th>Single_Males</th>\n",
       "      <th>Single_Females</th>\n",
       "      <th>Married_Males</th>\n",
       "      <th>Married_Females</th>\n",
       "      <th>Widowed_Males</th>\n",
       "      <th>Widowed_Females</th>\n",
       "      <th>Divorced_Separated_Males</th>\n",
       "      <th>Divorced_Separated_Females</th>\n",
       "    </tr>\n",
       "  </thead>\n",
       "  <tbody>\n",
       "    <tr>\n",
       "      <th>0</th>\n",
       "      <td>Total</td>\n",
       "      <td>533.2</td>\n",
       "      <td>501.3</td>\n",
       "      <td>984.7</td>\n",
       "      <td>960.9</td>\n",
       "      <td>28.9</td>\n",
       "      <td>143.2</td>\n",
       "      <td>42.7</td>\n",
       "      <td>80.9</td>\n",
       "    </tr>\n",
       "    <tr>\n",
       "      <th>1</th>\n",
       "      <td>No Religion</td>\n",
       "      <td>128.9</td>\n",
       "      <td>107.6</td>\n",
       "      <td>175.4</td>\n",
       "      <td>155.7</td>\n",
       "      <td>4.2</td>\n",
       "      <td>10.6</td>\n",
       "      <td>8.7</td>\n",
       "      <td>13.4</td>\n",
       "    </tr>\n",
       "    <tr>\n",
       "      <th>2</th>\n",
       "      <td>With Religion</td>\n",
       "      <td>404.3</td>\n",
       "      <td>393.8</td>\n",
       "      <td>809.4</td>\n",
       "      <td>805.2</td>\n",
       "      <td>24.8</td>\n",
       "      <td>132.6</td>\n",
       "      <td>34</td>\n",
       "      <td>67.5</td>\n",
       "    </tr>\n",
       "    <tr>\n",
       "      <th>3</th>\n",
       "      <td>Buddhism</td>\n",
       "      <td>160.6</td>\n",
       "      <td>149.4</td>\n",
       "      <td>336.6</td>\n",
       "      <td>333.2</td>\n",
       "      <td>10.3</td>\n",
       "      <td>54.3</td>\n",
       "      <td>14.9</td>\n",
       "      <td>28.0</td>\n",
       "    </tr>\n",
       "    <tr>\n",
       "      <th>4</th>\n",
       "      <td>Taoism1/</td>\n",
       "      <td>45.4</td>\n",
       "      <td>42.2</td>\n",
       "      <td>107.3</td>\n",
       "      <td>95.4</td>\n",
       "      <td>4.2</td>\n",
       "      <td>22.8</td>\n",
       "      <td>3.8</td>\n",
       "      <td>5.2</td>\n",
       "    </tr>\n",
       "    <tr>\n",
       "      <th>5</th>\n",
       "      <td>Islam</td>\n",
       "      <td>84.3</td>\n",
       "      <td>70.8</td>\n",
       "      <td>129.9</td>\n",
       "      <td>128.3</td>\n",
       "      <td>5.2</td>\n",
       "      <td>20.4</td>\n",
       "      <td>6.6</td>\n",
       "      <td>14.4</td>\n",
       "    </tr>\n",
       "    <tr>\n",
       "      <th>6</th>\n",
       "      <td>Hinduism</td>\n",
       "      <td>18.8</td>\n",
       "      <td>17.3</td>\n",
       "      <td>60.2</td>\n",
       "      <td>53.4</td>\n",
       "      <td>0.9</td>\n",
       "      <td>7.0</td>\n",
       "      <td>1.5</td>\n",
       "      <td>3.5</td>\n",
       "    </tr>\n",
       "    <tr>\n",
       "      <th>7</th>\n",
       "      <td>Sikhism</td>\n",
       "      <td>1.5</td>\n",
       "      <td>1.7</td>\n",
       "      <td>3.5</td>\n",
       "      <td>3.4</td>\n",
       "      <td>na</td>\n",
       "      <td>0.9</td>\n",
       "      <td>0.2</td>\n",
       "      <td>0.3</td>\n",
       "    </tr>\n",
       "    <tr>\n",
       "      <th>8</th>\n",
       "      <td>Christianity</td>\n",
       "      <td>92.4</td>\n",
       "      <td>111.2</td>\n",
       "      <td>169.3</td>\n",
       "      <td>189.4</td>\n",
       "      <td>4.1</td>\n",
       "      <td>26.8</td>\n",
       "      <td>6.9</td>\n",
       "      <td>15.9</td>\n",
       "    </tr>\n",
       "    <tr>\n",
       "      <th>9</th>\n",
       "      <td>Catholic</td>\n",
       "      <td>33.5</td>\n",
       "      <td>37.1</td>\n",
       "      <td>60.0</td>\n",
       "      <td>69.3</td>\n",
       "      <td>1.5</td>\n",
       "      <td>10.2</td>\n",
       "      <td>3.1</td>\n",
       "      <td>6.2</td>\n",
       "    </tr>\n",
       "    <tr>\n",
       "      <th>10</th>\n",
       "      <td>Other Christians</td>\n",
       "      <td>58.9</td>\n",
       "      <td>74.1</td>\n",
       "      <td>109.3</td>\n",
       "      <td>120.1</td>\n",
       "      <td>2.6</td>\n",
       "      <td>16.6</td>\n",
       "      <td>3.8</td>\n",
       "      <td>9.7</td>\n",
       "    </tr>\n",
       "    <tr>\n",
       "      <th>11</th>\n",
       "      <td>Other Religions</td>\n",
       "      <td>1.3</td>\n",
       "      <td>1.1</td>\n",
       "      <td>2.6</td>\n",
       "      <td>2.2</td>\n",
       "      <td>na</td>\n",
       "      <td>0.4</td>\n",
       "      <td>na</td>\n",
       "      <td>0.2</td>\n",
       "    </tr>\n",
       "  </tbody>\n",
       "</table>\n",
       "</div>"
      ],
      "text/plain": [
       "       Religion Type  Single_Males  Single_Females  Married_Males  \\\n",
       "0              Total         533.2           501.3          984.7   \n",
       "1        No Religion         128.9           107.6          175.4   \n",
       "2      With Religion         404.3           393.8          809.4   \n",
       "3           Buddhism         160.6           149.4          336.6   \n",
       "4           Taoism1/          45.4            42.2          107.3   \n",
       "5              Islam          84.3            70.8          129.9   \n",
       "6           Hinduism          18.8            17.3           60.2   \n",
       "7            Sikhism           1.5             1.7            3.5   \n",
       "8       Christianity          92.4           111.2          169.3   \n",
       "9           Catholic          33.5            37.1           60.0   \n",
       "10  Other Christians          58.9            74.1          109.3   \n",
       "11   Other Religions           1.3             1.1            2.6   \n",
       "\n",
       "    Married_Females Widowed_Males  Widowed_Females Divorced_Separated_Males  \\\n",
       "0             960.9          28.9            143.2                     42.7   \n",
       "1             155.7           4.2             10.6                      8.7   \n",
       "2             805.2          24.8            132.6                       34   \n",
       "3             333.2          10.3             54.3                     14.9   \n",
       "4              95.4           4.2             22.8                      3.8   \n",
       "5             128.3           5.2             20.4                      6.6   \n",
       "6              53.4           0.9              7.0                      1.5   \n",
       "7               3.4            na              0.9                      0.2   \n",
       "8             189.4           4.1             26.8                      6.9   \n",
       "9              69.3           1.5             10.2                      3.1   \n",
       "10            120.1           2.6             16.6                      3.8   \n",
       "11              2.2            na              0.4                       na   \n",
       "\n",
       "    Divorced_Separated_Females  \n",
       "0                         80.9  \n",
       "1                         13.4  \n",
       "2                         67.5  \n",
       "3                         28.0  \n",
       "4                          5.2  \n",
       "5                         14.4  \n",
       "6                          3.5  \n",
       "7                          0.3  \n",
       "8                         15.9  \n",
       "9                          6.2  \n",
       "10                         9.7  \n",
       "11                         0.2  "
      ]
     },
     "execution_count": 75,
     "metadata": {},
     "output_type": "execute_result"
    }
   ],
   "source": [
    "df"
   ]
  },
  {
   "cell_type": "code",
   "execution_count": 76,
   "id": "af3ee74a",
   "metadata": {},
   "outputs": [
    {
     "data": {
      "application/vnd.microsoft.datawrangler.viewer.v0+json": {
       "columns": [
        {
         "name": "index",
         "rawType": "int64",
         "type": "integer"
        },
        {
         "name": "Religion Type",
         "rawType": "object",
         "type": "string"
        },
        {
         "name": "Status_Gender",
         "rawType": "object",
         "type": "string"
        },
        {
         "name": "Count",
         "rawType": "object",
         "type": "unknown"
        }
       ],
       "ref": "f8166c68-3a8d-4356-a3ac-d97164ce76fa",
       "rows": [
        [
         "0",
         "Total",
         "Single_Males",
         "533.2"
        ],
        [
         "1",
         "No Religion",
         "Single_Males",
         "128.9"
        ],
        [
         "2",
         "With Religion",
         "Single_Males",
         "404.3"
        ],
        [
         "3",
         "Buddhism",
         "Single_Males",
         "160.6"
        ],
        [
         "4",
         "Taoism1/",
         "Single_Males",
         "45.4"
        ],
        [
         "5",
         "Islam",
         "Single_Males",
         "84.3"
        ],
        [
         "6",
         "Hinduism",
         "Single_Males",
         "18.8"
        ],
        [
         "7",
         "Sikhism",
         "Single_Males",
         "1.5"
        ],
        [
         "8",
         "Christianity",
         "Single_Males",
         "92.4"
        ],
        [
         "9",
         "Catholic",
         "Single_Males",
         "33.5"
        ],
        [
         "10",
         "Other Christians",
         "Single_Males",
         "58.9"
        ],
        [
         "11",
         "Other Religions",
         "Single_Males",
         "1.3"
        ],
        [
         "12",
         "Total",
         "Single_Females",
         "501.3"
        ],
        [
         "13",
         "No Religion",
         "Single_Females",
         "107.6"
        ],
        [
         "14",
         "With Religion",
         "Single_Females",
         "393.8"
        ],
        [
         "15",
         "Buddhism",
         "Single_Females",
         "149.4"
        ],
        [
         "16",
         "Taoism1/",
         "Single_Females",
         "42.2"
        ],
        [
         "17",
         "Islam",
         "Single_Females",
         "70.8"
        ],
        [
         "18",
         "Hinduism",
         "Single_Females",
         "17.3"
        ],
        [
         "19",
         "Sikhism",
         "Single_Females",
         "1.7"
        ],
        [
         "20",
         "Christianity",
         "Single_Females",
         "111.2"
        ],
        [
         "21",
         "Catholic",
         "Single_Females",
         "37.1"
        ],
        [
         "22",
         "Other Christians",
         "Single_Females",
         "74.1"
        ],
        [
         "23",
         "Other Religions",
         "Single_Females",
         "1.1"
        ],
        [
         "24",
         "Total",
         "Married_Males",
         "984.7"
        ],
        [
         "25",
         "No Religion",
         "Married_Males",
         "175.4"
        ],
        [
         "26",
         "With Religion",
         "Married_Males",
         "809.4"
        ],
        [
         "27",
         "Buddhism",
         "Married_Males",
         "336.6"
        ],
        [
         "28",
         "Taoism1/",
         "Married_Males",
         "107.3"
        ],
        [
         "29",
         "Islam",
         "Married_Males",
         "129.9"
        ],
        [
         "30",
         "Hinduism",
         "Married_Males",
         "60.2"
        ],
        [
         "31",
         "Sikhism",
         "Married_Males",
         "3.5"
        ],
        [
         "32",
         "Christianity",
         "Married_Males",
         "169.3"
        ],
        [
         "33",
         "Catholic",
         "Married_Males",
         "60.0"
        ],
        [
         "34",
         "Other Christians",
         "Married_Males",
         "109.3"
        ],
        [
         "35",
         "Other Religions",
         "Married_Males",
         "2.6"
        ],
        [
         "36",
         "Total",
         "Married_Females",
         "960.9"
        ],
        [
         "37",
         "No Religion",
         "Married_Females",
         "155.7"
        ],
        [
         "38",
         "With Religion",
         "Married_Females",
         "805.2"
        ],
        [
         "39",
         "Buddhism",
         "Married_Females",
         "333.2"
        ],
        [
         "40",
         "Taoism1/",
         "Married_Females",
         "95.4"
        ],
        [
         "41",
         "Islam",
         "Married_Females",
         "128.3"
        ],
        [
         "42",
         "Hinduism",
         "Married_Females",
         "53.4"
        ],
        [
         "43",
         "Sikhism",
         "Married_Females",
         "3.4"
        ],
        [
         "44",
         "Christianity",
         "Married_Females",
         "189.4"
        ],
        [
         "45",
         "Catholic",
         "Married_Females",
         "69.3"
        ],
        [
         "46",
         "Other Christians",
         "Married_Females",
         "120.1"
        ],
        [
         "47",
         "Other Religions",
         "Married_Females",
         "2.2"
        ],
        [
         "48",
         "Total",
         "Widowed_Males",
         "28.9"
        ],
        [
         "49",
         "No Religion",
         "Widowed_Males",
         "4.2"
        ]
       ],
       "shape": {
        "columns": 3,
        "rows": 96
       }
      },
      "text/html": [
       "<div>\n",
       "<style scoped>\n",
       "    .dataframe tbody tr th:only-of-type {\n",
       "        vertical-align: middle;\n",
       "    }\n",
       "\n",
       "    .dataframe tbody tr th {\n",
       "        vertical-align: top;\n",
       "    }\n",
       "\n",
       "    .dataframe thead th {\n",
       "        text-align: right;\n",
       "    }\n",
       "</style>\n",
       "<table border=\"1\" class=\"dataframe\">\n",
       "  <thead>\n",
       "    <tr style=\"text-align: right;\">\n",
       "      <th></th>\n",
       "      <th>Religion Type</th>\n",
       "      <th>Status_Gender</th>\n",
       "      <th>Count</th>\n",
       "    </tr>\n",
       "  </thead>\n",
       "  <tbody>\n",
       "    <tr>\n",
       "      <th>0</th>\n",
       "      <td>Total</td>\n",
       "      <td>Single_Males</td>\n",
       "      <td>533.2</td>\n",
       "    </tr>\n",
       "    <tr>\n",
       "      <th>1</th>\n",
       "      <td>No Religion</td>\n",
       "      <td>Single_Males</td>\n",
       "      <td>128.9</td>\n",
       "    </tr>\n",
       "    <tr>\n",
       "      <th>2</th>\n",
       "      <td>With Religion</td>\n",
       "      <td>Single_Males</td>\n",
       "      <td>404.3</td>\n",
       "    </tr>\n",
       "    <tr>\n",
       "      <th>3</th>\n",
       "      <td>Buddhism</td>\n",
       "      <td>Single_Males</td>\n",
       "      <td>160.6</td>\n",
       "    </tr>\n",
       "    <tr>\n",
       "      <th>4</th>\n",
       "      <td>Taoism1/</td>\n",
       "      <td>Single_Males</td>\n",
       "      <td>45.4</td>\n",
       "    </tr>\n",
       "    <tr>\n",
       "      <th>...</th>\n",
       "      <td>...</td>\n",
       "      <td>...</td>\n",
       "      <td>...</td>\n",
       "    </tr>\n",
       "    <tr>\n",
       "      <th>91</th>\n",
       "      <td>Sikhism</td>\n",
       "      <td>Divorced_Separated_Females</td>\n",
       "      <td>0.3</td>\n",
       "    </tr>\n",
       "    <tr>\n",
       "      <th>92</th>\n",
       "      <td>Christianity</td>\n",
       "      <td>Divorced_Separated_Females</td>\n",
       "      <td>15.9</td>\n",
       "    </tr>\n",
       "    <tr>\n",
       "      <th>93</th>\n",
       "      <td>Catholic</td>\n",
       "      <td>Divorced_Separated_Females</td>\n",
       "      <td>6.2</td>\n",
       "    </tr>\n",
       "    <tr>\n",
       "      <th>94</th>\n",
       "      <td>Other Christians</td>\n",
       "      <td>Divorced_Separated_Females</td>\n",
       "      <td>9.7</td>\n",
       "    </tr>\n",
       "    <tr>\n",
       "      <th>95</th>\n",
       "      <td>Other Religions</td>\n",
       "      <td>Divorced_Separated_Females</td>\n",
       "      <td>0.2</td>\n",
       "    </tr>\n",
       "  </tbody>\n",
       "</table>\n",
       "<p>96 rows × 3 columns</p>\n",
       "</div>"
      ],
      "text/plain": [
       "       Religion Type               Status_Gender  Count\n",
       "0              Total                Single_Males  533.2\n",
       "1        No Religion                Single_Males  128.9\n",
       "2      With Religion                Single_Males  404.3\n",
       "3           Buddhism                Single_Males  160.6\n",
       "4           Taoism1/                Single_Males   45.4\n",
       "..               ...                         ...    ...\n",
       "91           Sikhism  Divorced_Separated_Females    0.3\n",
       "92      Christianity  Divorced_Separated_Females   15.9\n",
       "93          Catholic  Divorced_Separated_Females    6.2\n",
       "94  Other Christians  Divorced_Separated_Females    9.7\n",
       "95   Other Religions  Divorced_Separated_Females    0.2\n",
       "\n",
       "[96 rows x 3 columns]"
      ]
     },
     "execution_count": 76,
     "metadata": {},
     "output_type": "execute_result"
    }
   ],
   "source": [
    "# Melt all marital/gender columns into two columns: 'variable' and 'Count'\n",
    "df_tidy = df.melt(\n",
    "    id_vars='Religion Type',\n",
    "    var_name='Status_Gender',\n",
    "    value_name='Count'\n",
    ")\n",
    "df_tidy"
   ]
  },
  {
   "cell_type": "code",
   "execution_count": 77,
   "id": "75d2d26a",
   "metadata": {},
   "outputs": [],
   "source": [
    "# Fix inconsistent names\n",
    "df_tidy['Status_Gender'] = df_tidy['Status_Gender'].replace({\n",
    "    'Divorced_Separated_Males': 'Divorced_Males',\n",
    "    'Divorced_Separated_Females': 'Divorced_Females'\n",
    "})"
   ]
  },
  {
   "cell_type": "code",
   "execution_count": 78,
   "id": "4f2c7bbe",
   "metadata": {},
   "outputs": [],
   "source": [
    "# Separate the 'Status_Gender' into two columns (Marital Status, Gender)\n",
    "df_tidy[['Marital Status', 'Gender']] = df_tidy['Status_Gender'].str.split('_', expand=True)\n"
   ]
  },
  {
   "cell_type": "code",
   "execution_count": 79,
   "id": "2e8ecbb3",
   "metadata": {},
   "outputs": [],
   "source": [
    "df_tidy.drop(columns=['Status_Gender'], inplace=True)"
   ]
  },
  {
   "cell_type": "code",
   "execution_count": 80,
   "id": "d021dfe7",
   "metadata": {},
   "outputs": [],
   "source": [
    "df_tidy.rename(columns={'Count': 'Value (Thousands)'}, inplace=True)"
   ]
  },
  {
   "cell_type": "code",
   "execution_count": 81,
   "id": "e585195e",
   "metadata": {},
   "outputs": [],
   "source": [
    "df_tidy['Gender'] = df_tidy['Gender'].replace({\n",
    "    'Males' : \"Male\",\n",
    "    \"Females\" : \"Female\"})\n"
   ]
  },
  {
   "cell_type": "code",
   "execution_count": 82,
   "id": "3f37aa94",
   "metadata": {},
   "outputs": [],
   "source": [
    "df_tidy['Religion Type'] = df_tidy['Religion Type'].replace({\n",
    "    \"Taoism1/\" : \"Taoism\"})"
   ]
  },
  {
   "cell_type": "code",
   "execution_count": 83,
   "id": "61c017a4",
   "metadata": {},
   "outputs": [],
   "source": [
    "df_tidy.drop(index=0, inplace=True)\n",
    "df_tidy\n",
    "df_tidy.to_csv(\"tidy_religion_marital_status.csv\", index=False)"
   ]
  },
  {
   "cell_type": "code",
   "execution_count": null,
   "id": "5403ffdb",
   "metadata": {},
   "outputs": [],
   "source": []
  }
 ],
 "metadata": {
  "kernelspec": {
   "display_name": "anaconda-2025.06-py3.11",
   "language": "python",
   "name": "python3"
  },
  "language_info": {
   "codemirror_mode": {
    "name": "ipython",
    "version": 3
   },
   "file_extension": ".py",
   "mimetype": "text/x-python",
   "name": "python",
   "nbconvert_exporter": "python",
   "pygments_lexer": "ipython3",
   "version": "3.11.13"
  }
 },
 "nbformat": 4,
 "nbformat_minor": 5
}
